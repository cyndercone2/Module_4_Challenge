{
 "cells": [
  {
   "cell_type": "markdown",
   "metadata": {},
   "source": [
    " #  A Whale off the Port(folio)\n",
    " ---\n",
    "\n",
    " In this assignment, you'll get to use what you've learned this week to evaluate the performance among various algorithmic, hedge, and mutual fund portfolios and compare them against the S&P 500 Index."
   ]
  },
  {
   "cell_type": "code",
   "execution_count": 357,
   "metadata": {},
   "outputs": [],
   "source": [
    "# Initial imports\n",
    "import pandas as pd\n",
    "import numpy as np\n",
    "import datetime as dt\n",
    "from pathlib import Path\n",
    "\n",
    "%matplotlib inline"
   ]
  },
  {
   "cell_type": "markdown",
   "metadata": {},
   "source": [
    "# Data Cleaning\n",
    "\n",
    "In this section, you will need to read the CSV files into DataFrames and perform any necessary data cleaning steps. After cleaning, combine all DataFrames into a single DataFrame.\n",
    "\n",
    "Files:\n",
    "\n",
    "* `whale_returns.csv`: Contains returns of some famous \"whale\" investors' portfolios.\n",
    "\n",
    "* `algo_returns.csv`: Contains returns from the in-house trading algorithms from Harold's company.\n",
    "\n",
    "* `sp500_history.csv`: Contains historical closing prices of the S&P 500 Index."
   ]
  },
  {
   "cell_type": "markdown",
   "metadata": {},
   "source": [
    "## Whale Returns\n",
    "\n",
    "Read the Whale Portfolio daily returns and clean the data"
   ]
  },
  {
   "cell_type": "code",
   "execution_count": 358,
   "metadata": {},
   "outputs": [
    {
     "data": {
      "text/plain": [
       "'/Users/cynthiadavis/Documents/GitHub/Module_4_Challenge/Starter_Code'"
      ]
     },
     "execution_count": 358,
     "metadata": {},
     "output_type": "execute_result"
    }
   ],
   "source": [
    "pwd"
   ]
  },
  {
   "cell_type": "code",
   "execution_count": 359,
   "metadata": {},
   "outputs": [
    {
     "name": "stdout",
     "output_type": "stream",
     "text": [
      "\u001b[1m\u001b[36mResources\u001b[m\u001b[m            whale_analysis.ipynb\r\n"
     ]
    }
   ],
   "source": [
    "!ls"
   ]
  },
  {
   "cell_type": "code",
   "execution_count": 360,
   "metadata": {},
   "outputs": [
    {
     "data": {
      "text/plain": [
       "PosixPath('Resources/whale_returns.csv')"
      ]
     },
     "execution_count": 360,
     "metadata": {},
     "output_type": "execute_result"
    }
   ],
   "source": [
    "# Reading whale returns\n",
    "whale_path = Path('Resources/whale_returns.csv')\n",
    "whale_path"
   ]
  },
  {
   "cell_type": "code",
   "execution_count": 361,
   "metadata": {},
   "outputs": [
    {
     "data": {
      "text/html": [
       "<div>\n",
       "<style scoped>\n",
       "    .dataframe tbody tr th:only-of-type {\n",
       "        vertical-align: middle;\n",
       "    }\n",
       "\n",
       "    .dataframe tbody tr th {\n",
       "        vertical-align: top;\n",
       "    }\n",
       "\n",
       "    .dataframe thead th {\n",
       "        text-align: right;\n",
       "    }\n",
       "</style>\n",
       "<table border=\"1\" class=\"dataframe\">\n",
       "  <thead>\n",
       "    <tr style=\"text-align: right;\">\n",
       "      <th></th>\n",
       "      <th>Date</th>\n",
       "      <th>SOROS FUND MANAGEMENT LLC</th>\n",
       "      <th>PAULSON &amp; CO.INC.</th>\n",
       "      <th>TIGER GLOBAL MANAGEMENT LLC</th>\n",
       "      <th>BERKSHIRE HATHAWAY INC</th>\n",
       "    </tr>\n",
       "  </thead>\n",
       "  <tbody>\n",
       "    <tr>\n",
       "      <th>0</th>\n",
       "      <td>2015-03-02</td>\n",
       "      <td>NaN</td>\n",
       "      <td>NaN</td>\n",
       "      <td>NaN</td>\n",
       "      <td>NaN</td>\n",
       "    </tr>\n",
       "    <tr>\n",
       "      <th>1</th>\n",
       "      <td>2015-03-03</td>\n",
       "      <td>-0.001266</td>\n",
       "      <td>-0.004981</td>\n",
       "      <td>-0.000496</td>\n",
       "      <td>-0.006569</td>\n",
       "    </tr>\n",
       "    <tr>\n",
       "      <th>2</th>\n",
       "      <td>2015-03-04</td>\n",
       "      <td>0.002230</td>\n",
       "      <td>0.003241</td>\n",
       "      <td>-0.002534</td>\n",
       "      <td>0.004213</td>\n",
       "    </tr>\n",
       "    <tr>\n",
       "      <th>3</th>\n",
       "      <td>2015-03-05</td>\n",
       "      <td>0.004016</td>\n",
       "      <td>0.004076</td>\n",
       "      <td>0.002355</td>\n",
       "      <td>0.006726</td>\n",
       "    </tr>\n",
       "    <tr>\n",
       "      <th>4</th>\n",
       "      <td>2015-03-06</td>\n",
       "      <td>-0.007905</td>\n",
       "      <td>-0.003574</td>\n",
       "      <td>-0.008481</td>\n",
       "      <td>-0.013098</td>\n",
       "    </tr>\n",
       "    <tr>\n",
       "      <th>...</th>\n",
       "      <td>...</td>\n",
       "      <td>...</td>\n",
       "      <td>...</td>\n",
       "      <td>...</td>\n",
       "      <td>...</td>\n",
       "    </tr>\n",
       "    <tr>\n",
       "      <th>1055</th>\n",
       "      <td>2019-04-25</td>\n",
       "      <td>-0.000285</td>\n",
       "      <td>-0.001291</td>\n",
       "      <td>-0.005153</td>\n",
       "      <td>0.004848</td>\n",
       "    </tr>\n",
       "    <tr>\n",
       "      <th>1056</th>\n",
       "      <td>2019-04-26</td>\n",
       "      <td>0.008149</td>\n",
       "      <td>0.009162</td>\n",
       "      <td>0.012355</td>\n",
       "      <td>0.010434</td>\n",
       "    </tr>\n",
       "    <tr>\n",
       "      <th>1057</th>\n",
       "      <td>2019-04-29</td>\n",
       "      <td>0.001254</td>\n",
       "      <td>0.002719</td>\n",
       "      <td>0.006251</td>\n",
       "      <td>0.005223</td>\n",
       "    </tr>\n",
       "    <tr>\n",
       "      <th>1058</th>\n",
       "      <td>2019-04-30</td>\n",
       "      <td>-0.001295</td>\n",
       "      <td>-0.002211</td>\n",
       "      <td>-0.000259</td>\n",
       "      <td>-0.003702</td>\n",
       "    </tr>\n",
       "    <tr>\n",
       "      <th>1059</th>\n",
       "      <td>2019-05-01</td>\n",
       "      <td>-0.005847</td>\n",
       "      <td>-0.001341</td>\n",
       "      <td>-0.007936</td>\n",
       "      <td>-0.007833</td>\n",
       "    </tr>\n",
       "  </tbody>\n",
       "</table>\n",
       "<p>1060 rows × 5 columns</p>\n",
       "</div>"
      ],
      "text/plain": [
       "            Date  SOROS FUND MANAGEMENT LLC  PAULSON & CO.INC.   \\\n",
       "0     2015-03-02                        NaN                 NaN   \n",
       "1     2015-03-03                  -0.001266           -0.004981   \n",
       "2     2015-03-04                   0.002230            0.003241   \n",
       "3     2015-03-05                   0.004016            0.004076   \n",
       "4     2015-03-06                  -0.007905           -0.003574   \n",
       "...          ...                        ...                 ...   \n",
       "1055  2019-04-25                  -0.000285           -0.001291   \n",
       "1056  2019-04-26                   0.008149            0.009162   \n",
       "1057  2019-04-29                   0.001254            0.002719   \n",
       "1058  2019-04-30                  -0.001295           -0.002211   \n",
       "1059  2019-05-01                  -0.005847           -0.001341   \n",
       "\n",
       "      TIGER GLOBAL MANAGEMENT LLC  BERKSHIRE HATHAWAY INC  \n",
       "0                             NaN                     NaN  \n",
       "1                       -0.000496               -0.006569  \n",
       "2                       -0.002534                0.004213  \n",
       "3                        0.002355                0.006726  \n",
       "4                       -0.008481               -0.013098  \n",
       "...                           ...                     ...  \n",
       "1055                    -0.005153                0.004848  \n",
       "1056                     0.012355                0.010434  \n",
       "1057                     0.006251                0.005223  \n",
       "1058                    -0.000259               -0.003702  \n",
       "1059                    -0.007936               -0.007833  \n",
       "\n",
       "[1060 rows x 5 columns]"
      ]
     },
     "execution_count": 361,
     "metadata": {},
     "output_type": "execute_result"
    }
   ],
   "source": [
    "whale_df = pd.read_csv(whale_path)\n",
    "whale_df"
   ]
  },
  {
   "cell_type": "code",
   "execution_count": 362,
   "metadata": {},
   "outputs": [
    {
     "data": {
      "text/plain": [
       "Date                           0\n",
       "SOROS FUND MANAGEMENT LLC      1\n",
       "PAULSON & CO.INC.              1\n",
       "TIGER GLOBAL MANAGEMENT LLC    1\n",
       "BERKSHIRE HATHAWAY INC         1\n",
       "dtype: int64"
      ]
     },
     "execution_count": 362,
     "metadata": {},
     "output_type": "execute_result"
    }
   ],
   "source": [
    "# Count nulls\n",
    "whale_returns_null_count = whale_df.isnull().sum()\n",
    "whale_returns_null_count"
   ]
  },
  {
   "cell_type": "code",
   "execution_count": 363,
   "metadata": {},
   "outputs": [],
   "source": [
    "# Drop nulls\n",
    "whale_df = whale_df.dropna()"
   ]
  },
  {
   "cell_type": "code",
   "execution_count": 364,
   "metadata": {},
   "outputs": [
    {
     "data": {
      "text/html": [
       "<div>\n",
       "<style scoped>\n",
       "    .dataframe tbody tr th:only-of-type {\n",
       "        vertical-align: middle;\n",
       "    }\n",
       "\n",
       "    .dataframe tbody tr th {\n",
       "        vertical-align: top;\n",
       "    }\n",
       "\n",
       "    .dataframe thead th {\n",
       "        text-align: right;\n",
       "    }\n",
       "</style>\n",
       "<table border=\"1\" class=\"dataframe\">\n",
       "  <thead>\n",
       "    <tr style=\"text-align: right;\">\n",
       "      <th></th>\n",
       "      <th>Date</th>\n",
       "      <th>SOROS FUND MANAGEMENT LLC</th>\n",
       "      <th>PAULSON &amp; CO.INC.</th>\n",
       "      <th>TIGER GLOBAL MANAGEMENT LLC</th>\n",
       "      <th>BERKSHIRE HATHAWAY INC</th>\n",
       "    </tr>\n",
       "  </thead>\n",
       "  <tbody>\n",
       "    <tr>\n",
       "      <th>1</th>\n",
       "      <td>2015-03-03</td>\n",
       "      <td>-0.001266</td>\n",
       "      <td>-0.004981</td>\n",
       "      <td>-0.000496</td>\n",
       "      <td>-0.006569</td>\n",
       "    </tr>\n",
       "    <tr>\n",
       "      <th>2</th>\n",
       "      <td>2015-03-04</td>\n",
       "      <td>0.002230</td>\n",
       "      <td>0.003241</td>\n",
       "      <td>-0.002534</td>\n",
       "      <td>0.004213</td>\n",
       "    </tr>\n",
       "    <tr>\n",
       "      <th>3</th>\n",
       "      <td>2015-03-05</td>\n",
       "      <td>0.004016</td>\n",
       "      <td>0.004076</td>\n",
       "      <td>0.002355</td>\n",
       "      <td>0.006726</td>\n",
       "    </tr>\n",
       "    <tr>\n",
       "      <th>4</th>\n",
       "      <td>2015-03-06</td>\n",
       "      <td>-0.007905</td>\n",
       "      <td>-0.003574</td>\n",
       "      <td>-0.008481</td>\n",
       "      <td>-0.013098</td>\n",
       "    </tr>\n",
       "    <tr>\n",
       "      <th>5</th>\n",
       "      <td>2015-03-09</td>\n",
       "      <td>0.000582</td>\n",
       "      <td>0.004225</td>\n",
       "      <td>0.005843</td>\n",
       "      <td>-0.001652</td>\n",
       "    </tr>\n",
       "  </tbody>\n",
       "</table>\n",
       "</div>"
      ],
      "text/plain": [
       "         Date  SOROS FUND MANAGEMENT LLC  PAULSON & CO.INC.   \\\n",
       "1  2015-03-03                  -0.001266           -0.004981   \n",
       "2  2015-03-04                   0.002230            0.003241   \n",
       "3  2015-03-05                   0.004016            0.004076   \n",
       "4  2015-03-06                  -0.007905           -0.003574   \n",
       "5  2015-03-09                   0.000582            0.004225   \n",
       "\n",
       "   TIGER GLOBAL MANAGEMENT LLC  BERKSHIRE HATHAWAY INC  \n",
       "1                    -0.000496               -0.006569  \n",
       "2                    -0.002534                0.004213  \n",
       "3                     0.002355                0.006726  \n",
       "4                    -0.008481               -0.013098  \n",
       "5                     0.005843               -0.001652  "
      ]
     },
     "execution_count": 364,
     "metadata": {},
     "output_type": "execute_result"
    }
   ],
   "source": [
    "whale_df.head()"
   ]
  },
  {
   "cell_type": "markdown",
   "metadata": {},
   "source": [
    "## Algorithmic Daily Returns\n",
    "\n",
    "Read the algorithmic daily returns and clean the data"
   ]
  },
  {
   "cell_type": "code",
   "execution_count": 365,
   "metadata": {},
   "outputs": [],
   "source": [
    "# Reading algorithmic returns\n",
    "algo_path = Path('Resources/algo_returns.csv')\n",
    "algo_df = pd.read_csv(algo_path)"
   ]
  },
  {
   "cell_type": "code",
   "execution_count": 366,
   "metadata": {},
   "outputs": [
    {
     "data": {
      "text/plain": [
       "Date      0\n",
       "Algo 1    0\n",
       "Algo 2    6\n",
       "dtype: int64"
      ]
     },
     "execution_count": 366,
     "metadata": {},
     "output_type": "execute_result"
    }
   ],
   "source": [
    "# Count nulls\n",
    "algo_returns_null_count = algo_df.isnull().sum()\n",
    "algo_returns_null_count"
   ]
  },
  {
   "cell_type": "code",
   "execution_count": 367,
   "metadata": {},
   "outputs": [
    {
     "data": {
      "text/html": [
       "<div>\n",
       "<style scoped>\n",
       "    .dataframe tbody tr th:only-of-type {\n",
       "        vertical-align: middle;\n",
       "    }\n",
       "\n",
       "    .dataframe tbody tr th {\n",
       "        vertical-align: top;\n",
       "    }\n",
       "\n",
       "    .dataframe thead th {\n",
       "        text-align: right;\n",
       "    }\n",
       "</style>\n",
       "<table border=\"1\" class=\"dataframe\">\n",
       "  <thead>\n",
       "    <tr style=\"text-align: right;\">\n",
       "      <th></th>\n",
       "      <th>Date</th>\n",
       "      <th>Algo 1</th>\n",
       "      <th>Algo 2</th>\n",
       "    </tr>\n",
       "  </thead>\n",
       "  <tbody>\n",
       "    <tr>\n",
       "      <th>6</th>\n",
       "      <td>2014-06-05</td>\n",
       "      <td>0.004062</td>\n",
       "      <td>0.013285</td>\n",
       "    </tr>\n",
       "    <tr>\n",
       "      <th>7</th>\n",
       "      <td>2014-06-06</td>\n",
       "      <td>0.001857</td>\n",
       "      <td>0.008284</td>\n",
       "    </tr>\n",
       "    <tr>\n",
       "      <th>8</th>\n",
       "      <td>2014-06-09</td>\n",
       "      <td>-0.005012</td>\n",
       "      <td>0.005668</td>\n",
       "    </tr>\n",
       "    <tr>\n",
       "      <th>9</th>\n",
       "      <td>2014-06-10</td>\n",
       "      <td>0.004406</td>\n",
       "      <td>-0.000735</td>\n",
       "    </tr>\n",
       "    <tr>\n",
       "      <th>10</th>\n",
       "      <td>2014-06-11</td>\n",
       "      <td>0.004760</td>\n",
       "      <td>-0.003761</td>\n",
       "    </tr>\n",
       "    <tr>\n",
       "      <th>...</th>\n",
       "      <td>...</td>\n",
       "      <td>...</td>\n",
       "      <td>...</td>\n",
       "    </tr>\n",
       "    <tr>\n",
       "      <th>1236</th>\n",
       "      <td>2019-04-25</td>\n",
       "      <td>0.000682</td>\n",
       "      <td>-0.007247</td>\n",
       "    </tr>\n",
       "    <tr>\n",
       "      <th>1237</th>\n",
       "      <td>2019-04-26</td>\n",
       "      <td>0.002981</td>\n",
       "      <td>0.005256</td>\n",
       "    </tr>\n",
       "    <tr>\n",
       "      <th>1238</th>\n",
       "      <td>2019-04-29</td>\n",
       "      <td>0.005208</td>\n",
       "      <td>0.002829</td>\n",
       "    </tr>\n",
       "    <tr>\n",
       "      <th>1239</th>\n",
       "      <td>2019-04-30</td>\n",
       "      <td>-0.002944</td>\n",
       "      <td>-0.001570</td>\n",
       "    </tr>\n",
       "    <tr>\n",
       "      <th>1240</th>\n",
       "      <td>2019-05-01</td>\n",
       "      <td>0.000094</td>\n",
       "      <td>-0.007358</td>\n",
       "    </tr>\n",
       "  </tbody>\n",
       "</table>\n",
       "<p>1235 rows × 3 columns</p>\n",
       "</div>"
      ],
      "text/plain": [
       "            Date    Algo 1    Algo 2\n",
       "6     2014-06-05  0.004062  0.013285\n",
       "7     2014-06-06  0.001857  0.008284\n",
       "8     2014-06-09 -0.005012  0.005668\n",
       "9     2014-06-10  0.004406 -0.000735\n",
       "10    2014-06-11  0.004760 -0.003761\n",
       "...          ...       ...       ...\n",
       "1236  2019-04-25  0.000682 -0.007247\n",
       "1237  2019-04-26  0.002981  0.005256\n",
       "1238  2019-04-29  0.005208  0.002829\n",
       "1239  2019-04-30 -0.002944 -0.001570\n",
       "1240  2019-05-01  0.000094 -0.007358\n",
       "\n",
       "[1235 rows x 3 columns]"
      ]
     },
     "execution_count": 367,
     "metadata": {},
     "output_type": "execute_result"
    }
   ],
   "source": [
    "# Drop nulls\n",
    "algo_df = algo_df.dropna()\n",
    "algo_df"
   ]
  },
  {
   "cell_type": "markdown",
   "metadata": {},
   "source": [
    "## S&P 500 Returns\n",
    "\n",
    "Read the S&P 500 historic closing prices and create a new daily returns DataFrame from the data. "
   ]
  },
  {
   "cell_type": "code",
   "execution_count": 368,
   "metadata": {},
   "outputs": [
    {
     "name": "stdout",
     "output_type": "stream",
     "text": [
      "(1649, 2)\n"
     ]
    },
    {
     "data": {
      "text/html": [
       "<div>\n",
       "<style scoped>\n",
       "    .dataframe tbody tr th:only-of-type {\n",
       "        vertical-align: middle;\n",
       "    }\n",
       "\n",
       "    .dataframe tbody tr th {\n",
       "        vertical-align: top;\n",
       "    }\n",
       "\n",
       "    .dataframe thead th {\n",
       "        text-align: right;\n",
       "    }\n",
       "</style>\n",
       "<table border=\"1\" class=\"dataframe\">\n",
       "  <thead>\n",
       "    <tr style=\"text-align: right;\">\n",
       "      <th></th>\n",
       "      <th>Date</th>\n",
       "      <th>Close</th>\n",
       "    </tr>\n",
       "  </thead>\n",
       "  <tbody>\n",
       "    <tr>\n",
       "      <th>0</th>\n",
       "      <td>23-Apr-19</td>\n",
       "      <td>$2933.68</td>\n",
       "    </tr>\n",
       "    <tr>\n",
       "      <th>1</th>\n",
       "      <td>22-Apr-19</td>\n",
       "      <td>$2907.97</td>\n",
       "    </tr>\n",
       "    <tr>\n",
       "      <th>2</th>\n",
       "      <td>18-Apr-19</td>\n",
       "      <td>$2905.03</td>\n",
       "    </tr>\n",
       "    <tr>\n",
       "      <th>3</th>\n",
       "      <td>17-Apr-19</td>\n",
       "      <td>$2900.45</td>\n",
       "    </tr>\n",
       "    <tr>\n",
       "      <th>4</th>\n",
       "      <td>16-Apr-19</td>\n",
       "      <td>$2907.06</td>\n",
       "    </tr>\n",
       "  </tbody>\n",
       "</table>\n",
       "</div>"
      ],
      "text/plain": [
       "        Date     Close\n",
       "0  23-Apr-19  $2933.68\n",
       "1  22-Apr-19  $2907.97\n",
       "2  18-Apr-19  $2905.03\n",
       "3  17-Apr-19  $2900.45\n",
       "4  16-Apr-19  $2907.06"
      ]
     },
     "execution_count": 368,
     "metadata": {},
     "output_type": "execute_result"
    }
   ],
   "source": [
    "# Reading S&P 500 Closing Prices\n",
    "sp500_df = pd.read_csv(\"Resources/sp500_history.csv\")\n",
    "print(sp500_df.shape)\n",
    "sp500_df.head()"
   ]
  },
  {
   "cell_type": "code",
   "execution_count": 369,
   "metadata": {},
   "outputs": [
    {
     "name": "stdout",
     "output_type": "stream",
     "text": [
      "Date values are type : <class 'str'>\n",
      "Close values are type : <class 'str'>\n"
     ]
    }
   ],
   "source": [
    "# Check Data Types\n",
    "print(\"Date values are type :\", type(sp500_df['Date'].iloc[0]))\n",
    "print(\"Close values are type :\", type(sp500_df['Close'].iloc[0]))"
   ]
  },
  {
   "cell_type": "code",
   "execution_count": 370,
   "metadata": {},
   "outputs": [
    {
     "name": "stdout",
     "output_type": "stream",
     "text": [
      "Date values are now type : <class 'pandas._libs.tslibs.timestamps.Timestamp'>\n",
      "Close values are now type : <class 'numpy.float64'>\n"
     ]
    },
    {
     "data": {
      "text/html": [
       "<div>\n",
       "<style scoped>\n",
       "    .dataframe tbody tr th:only-of-type {\n",
       "        vertical-align: middle;\n",
       "    }\n",
       "\n",
       "    .dataframe tbody tr th {\n",
       "        vertical-align: top;\n",
       "    }\n",
       "\n",
       "    .dataframe thead th {\n",
       "        text-align: right;\n",
       "    }\n",
       "</style>\n",
       "<table border=\"1\" class=\"dataframe\">\n",
       "  <thead>\n",
       "    <tr style=\"text-align: right;\">\n",
       "      <th></th>\n",
       "      <th>Date</th>\n",
       "      <th>Close</th>\n",
       "    </tr>\n",
       "  </thead>\n",
       "  <tbody>\n",
       "    <tr>\n",
       "      <th>0</th>\n",
       "      <td>2019-04-23</td>\n",
       "      <td>2933.68</td>\n",
       "    </tr>\n",
       "    <tr>\n",
       "      <th>1</th>\n",
       "      <td>2019-04-22</td>\n",
       "      <td>2907.97</td>\n",
       "    </tr>\n",
       "    <tr>\n",
       "      <th>2</th>\n",
       "      <td>2019-04-18</td>\n",
       "      <td>2905.03</td>\n",
       "    </tr>\n",
       "    <tr>\n",
       "      <th>3</th>\n",
       "      <td>2019-04-17</td>\n",
       "      <td>2900.45</td>\n",
       "    </tr>\n",
       "    <tr>\n",
       "      <th>4</th>\n",
       "      <td>2019-04-16</td>\n",
       "      <td>2907.06</td>\n",
       "    </tr>\n",
       "  </tbody>\n",
       "</table>\n",
       "</div>"
      ],
      "text/plain": [
       "        Date    Close\n",
       "0 2019-04-23  2933.68\n",
       "1 2019-04-22  2907.97\n",
       "2 2019-04-18  2905.03\n",
       "3 2019-04-17  2900.45\n",
       "4 2019-04-16  2907.06"
      ]
     },
     "execution_count": 370,
     "metadata": {},
     "output_type": "execute_result"
    }
   ],
   "source": [
    "# Fix Data Types\n",
    "def convert_dollar_string_to_float(dollar_string):\n",
    "    return float(dollar_string.strip('$'))\n",
    "\n",
    "# Fix Date\n",
    "sp500_df[\"Date\"] = sp500_df[\"Date\"].apply(pd.to_datetime)\n",
    "\n",
    "# Fix Close\n",
    "sp500_df[\"Close\"] = sp500_df[\"Close\"].apply(convert_dollar_string_to_float)\n",
    "\n",
    "print(\"Date values are now type :\", type(sp500_df['Date'].iloc[0]))\n",
    "print(\"Close values are now type :\", type(sp500_df['Close'].iloc[0]))\n",
    "\n",
    "\n",
    "sp500_df.head()"
   ]
  },
  {
   "cell_type": "code",
   "execution_count": 371,
   "metadata": {},
   "outputs": [
    {
     "data": {
      "text/plain": [
       "Date     datetime64[ns]\n",
       "Close           float64\n",
       "dtype: object"
      ]
     },
     "execution_count": 371,
     "metadata": {},
     "output_type": "execute_result"
    }
   ],
   "source": [
    "sp500_df.dtypes"
   ]
  },
  {
   "cell_type": "code",
   "execution_count": 372,
   "metadata": {},
   "outputs": [
    {
     "name": "stdout",
     "output_type": "stream",
     "text": [
      "Date values are now type : <class 'pandas._libs.tslibs.timestamps.Timestamp'>\n",
      "Close values are now type : <class 'numpy.float64'>\n"
     ]
    }
   ],
   "source": [
    "print(\"Date values are now type :\", type(sp500_df['Date'].iloc[0]))\n",
    "print(\"Close values are now type :\", type(sp500_df['Close'].iloc[0]))"
   ]
  },
  {
   "cell_type": "code",
   "execution_count": 373,
   "metadata": {},
   "outputs": [
    {
     "data": {
      "text/html": [
       "<div>\n",
       "<style scoped>\n",
       "    .dataframe tbody tr th:only-of-type {\n",
       "        vertical-align: middle;\n",
       "    }\n",
       "\n",
       "    .dataframe tbody tr th {\n",
       "        vertical-align: top;\n",
       "    }\n",
       "\n",
       "    .dataframe thead th {\n",
       "        text-align: right;\n",
       "    }\n",
       "</style>\n",
       "<table border=\"1\" class=\"dataframe\">\n",
       "  <thead>\n",
       "    <tr style=\"text-align: right;\">\n",
       "      <th></th>\n",
       "      <th>Date</th>\n",
       "      <th>Close</th>\n",
       "    </tr>\n",
       "  </thead>\n",
       "  <tbody>\n",
       "    <tr>\n",
       "      <th>0</th>\n",
       "      <td>2019-04-23</td>\n",
       "      <td>2933.68</td>\n",
       "    </tr>\n",
       "    <tr>\n",
       "      <th>1</th>\n",
       "      <td>2019-04-22</td>\n",
       "      <td>2907.97</td>\n",
       "    </tr>\n",
       "    <tr>\n",
       "      <th>2</th>\n",
       "      <td>2019-04-18</td>\n",
       "      <td>2905.03</td>\n",
       "    </tr>\n",
       "    <tr>\n",
       "      <th>3</th>\n",
       "      <td>2019-04-17</td>\n",
       "      <td>2900.45</td>\n",
       "    </tr>\n",
       "    <tr>\n",
       "      <th>4</th>\n",
       "      <td>2019-04-16</td>\n",
       "      <td>2907.06</td>\n",
       "    </tr>\n",
       "  </tbody>\n",
       "</table>\n",
       "</div>"
      ],
      "text/plain": [
       "        Date    Close\n",
       "0 2019-04-23  2933.68\n",
       "1 2019-04-22  2907.97\n",
       "2 2019-04-18  2905.03\n",
       "3 2019-04-17  2900.45\n",
       "4 2019-04-16  2907.06"
      ]
     },
     "execution_count": 373,
     "metadata": {},
     "output_type": "execute_result"
    }
   ],
   "source": [
    "sp500_df.head()"
   ]
  },
  {
   "cell_type": "code",
   "execution_count": 374,
   "metadata": {},
   "outputs": [],
   "source": [
    "# Order dataframe by date\n",
    "sp500_df = sp500_df.sort_values(by=\"Date\")"
   ]
  },
  {
   "cell_type": "code",
   "execution_count": 375,
   "metadata": {},
   "outputs": [
    {
     "data": {
      "text/html": [
       "<div>\n",
       "<style scoped>\n",
       "    .dataframe tbody tr th:only-of-type {\n",
       "        vertical-align: middle;\n",
       "    }\n",
       "\n",
       "    .dataframe tbody tr th {\n",
       "        vertical-align: top;\n",
       "    }\n",
       "\n",
       "    .dataframe thead th {\n",
       "        text-align: right;\n",
       "    }\n",
       "</style>\n",
       "<table border=\"1\" class=\"dataframe\">\n",
       "  <thead>\n",
       "    <tr style=\"text-align: right;\">\n",
       "      <th></th>\n",
       "      <th>Date</th>\n",
       "      <th>Close</th>\n",
       "      <th>sp500_return</th>\n",
       "    </tr>\n",
       "  </thead>\n",
       "  <tbody>\n",
       "    <tr>\n",
       "      <th>1648</th>\n",
       "      <td>2012-10-01</td>\n",
       "      <td>1444.49</td>\n",
       "      <td>NaN</td>\n",
       "    </tr>\n",
       "    <tr>\n",
       "      <th>1647</th>\n",
       "      <td>2012-10-02</td>\n",
       "      <td>1445.75</td>\n",
       "      <td>0.000872</td>\n",
       "    </tr>\n",
       "    <tr>\n",
       "      <th>1646</th>\n",
       "      <td>2012-10-03</td>\n",
       "      <td>1450.99</td>\n",
       "      <td>0.003624</td>\n",
       "    </tr>\n",
       "    <tr>\n",
       "      <th>1645</th>\n",
       "      <td>2012-10-04</td>\n",
       "      <td>1461.40</td>\n",
       "      <td>0.007174</td>\n",
       "    </tr>\n",
       "    <tr>\n",
       "      <th>1644</th>\n",
       "      <td>2012-10-05</td>\n",
       "      <td>1460.93</td>\n",
       "      <td>-0.000322</td>\n",
       "    </tr>\n",
       "  </tbody>\n",
       "</table>\n",
       "</div>"
      ],
      "text/plain": [
       "           Date    Close  sp500_return\n",
       "1648 2012-10-01  1444.49           NaN\n",
       "1647 2012-10-02  1445.75      0.000872\n",
       "1646 2012-10-03  1450.99      0.003624\n",
       "1645 2012-10-04  1461.40      0.007174\n",
       "1644 2012-10-05  1460.93     -0.000322"
      ]
     },
     "execution_count": 375,
     "metadata": {},
     "output_type": "execute_result"
    }
   ],
   "source": [
    "# Calculate Daily Returns\n",
    "sp500_df[\"sp500_return\"] = sp500_df[\"Close\"].pct_change()\n",
    "sp500_df.head()"
   ]
  },
  {
   "cell_type": "code",
   "execution_count": 376,
   "metadata": {},
   "outputs": [
    {
     "data": {
      "text/html": [
       "<div>\n",
       "<style scoped>\n",
       "    .dataframe tbody tr th:only-of-type {\n",
       "        vertical-align: middle;\n",
       "    }\n",
       "\n",
       "    .dataframe tbody tr th {\n",
       "        vertical-align: top;\n",
       "    }\n",
       "\n",
       "    .dataframe thead th {\n",
       "        text-align: right;\n",
       "    }\n",
       "</style>\n",
       "<table border=\"1\" class=\"dataframe\">\n",
       "  <thead>\n",
       "    <tr style=\"text-align: right;\">\n",
       "      <th></th>\n",
       "      <th>Date</th>\n",
       "      <th>Close</th>\n",
       "      <th>sp500_return</th>\n",
       "    </tr>\n",
       "  </thead>\n",
       "  <tbody>\n",
       "    <tr>\n",
       "      <th>1647</th>\n",
       "      <td>2012-10-02</td>\n",
       "      <td>1445.75</td>\n",
       "      <td>0.000872</td>\n",
       "    </tr>\n",
       "    <tr>\n",
       "      <th>1646</th>\n",
       "      <td>2012-10-03</td>\n",
       "      <td>1450.99</td>\n",
       "      <td>0.003624</td>\n",
       "    </tr>\n",
       "    <tr>\n",
       "      <th>1645</th>\n",
       "      <td>2012-10-04</td>\n",
       "      <td>1461.40</td>\n",
       "      <td>0.007174</td>\n",
       "    </tr>\n",
       "    <tr>\n",
       "      <th>1644</th>\n",
       "      <td>2012-10-05</td>\n",
       "      <td>1460.93</td>\n",
       "      <td>-0.000322</td>\n",
       "    </tr>\n",
       "    <tr>\n",
       "      <th>1643</th>\n",
       "      <td>2012-10-08</td>\n",
       "      <td>1455.88</td>\n",
       "      <td>-0.003457</td>\n",
       "    </tr>\n",
       "    <tr>\n",
       "      <th>...</th>\n",
       "      <td>...</td>\n",
       "      <td>...</td>\n",
       "      <td>...</td>\n",
       "    </tr>\n",
       "    <tr>\n",
       "      <th>4</th>\n",
       "      <td>2019-04-16</td>\n",
       "      <td>2907.06</td>\n",
       "      <td>0.000509</td>\n",
       "    </tr>\n",
       "    <tr>\n",
       "      <th>3</th>\n",
       "      <td>2019-04-17</td>\n",
       "      <td>2900.45</td>\n",
       "      <td>-0.002274</td>\n",
       "    </tr>\n",
       "    <tr>\n",
       "      <th>2</th>\n",
       "      <td>2019-04-18</td>\n",
       "      <td>2905.03</td>\n",
       "      <td>0.001579</td>\n",
       "    </tr>\n",
       "    <tr>\n",
       "      <th>1</th>\n",
       "      <td>2019-04-22</td>\n",
       "      <td>2907.97</td>\n",
       "      <td>0.001012</td>\n",
       "    </tr>\n",
       "    <tr>\n",
       "      <th>0</th>\n",
       "      <td>2019-04-23</td>\n",
       "      <td>2933.68</td>\n",
       "      <td>0.008841</td>\n",
       "    </tr>\n",
       "  </tbody>\n",
       "</table>\n",
       "<p>1648 rows × 3 columns</p>\n",
       "</div>"
      ],
      "text/plain": [
       "           Date    Close  sp500_return\n",
       "1647 2012-10-02  1445.75      0.000872\n",
       "1646 2012-10-03  1450.99      0.003624\n",
       "1645 2012-10-04  1461.40      0.007174\n",
       "1644 2012-10-05  1460.93     -0.000322\n",
       "1643 2012-10-08  1455.88     -0.003457\n",
       "...         ...      ...           ...\n",
       "4    2019-04-16  2907.06      0.000509\n",
       "3    2019-04-17  2900.45     -0.002274\n",
       "2    2019-04-18  2905.03      0.001579\n",
       "1    2019-04-22  2907.97      0.001012\n",
       "0    2019-04-23  2933.68      0.008841\n",
       "\n",
       "[1648 rows x 3 columns]"
      ]
     },
     "execution_count": 376,
     "metadata": {},
     "output_type": "execute_result"
    }
   ],
   "source": [
    "# Drop nulls\n",
    "sp500_df = sp500_df.dropna()\n",
    "sp500_df"
   ]
  },
  {
   "cell_type": "code",
   "execution_count": 377,
   "metadata": {
    "scrolled": true
   },
   "outputs": [
    {
     "data": {
      "text/html": [
       "<div>\n",
       "<style scoped>\n",
       "    .dataframe tbody tr th:only-of-type {\n",
       "        vertical-align: middle;\n",
       "    }\n",
       "\n",
       "    .dataframe tbody tr th {\n",
       "        vertical-align: top;\n",
       "    }\n",
       "\n",
       "    .dataframe thead th {\n",
       "        text-align: right;\n",
       "    }\n",
       "</style>\n",
       "<table border=\"1\" class=\"dataframe\">\n",
       "  <thead>\n",
       "    <tr style=\"text-align: right;\">\n",
       "      <th></th>\n",
       "      <th>Date</th>\n",
       "      <th>Close</th>\n",
       "      <th>SP500 Close</th>\n",
       "    </tr>\n",
       "  </thead>\n",
       "  <tbody>\n",
       "    <tr>\n",
       "      <th>1647</th>\n",
       "      <td>2012-10-02</td>\n",
       "      <td>1445.75</td>\n",
       "      <td>0.000872</td>\n",
       "    </tr>\n",
       "    <tr>\n",
       "      <th>1646</th>\n",
       "      <td>2012-10-03</td>\n",
       "      <td>1450.99</td>\n",
       "      <td>0.003624</td>\n",
       "    </tr>\n",
       "    <tr>\n",
       "      <th>1645</th>\n",
       "      <td>2012-10-04</td>\n",
       "      <td>1461.40</td>\n",
       "      <td>0.007174</td>\n",
       "    </tr>\n",
       "    <tr>\n",
       "      <th>1644</th>\n",
       "      <td>2012-10-05</td>\n",
       "      <td>1460.93</td>\n",
       "      <td>-0.000322</td>\n",
       "    </tr>\n",
       "    <tr>\n",
       "      <th>1643</th>\n",
       "      <td>2012-10-08</td>\n",
       "      <td>1455.88</td>\n",
       "      <td>-0.003457</td>\n",
       "    </tr>\n",
       "  </tbody>\n",
       "</table>\n",
       "</div>"
      ],
      "text/plain": [
       "           Date    Close  SP500 Close\n",
       "1647 2012-10-02  1445.75     0.000872\n",
       "1646 2012-10-03  1450.99     0.003624\n",
       "1645 2012-10-04  1461.40     0.007174\n",
       "1644 2012-10-05  1460.93    -0.000322\n",
       "1643 2012-10-08  1455.88    -0.003457"
      ]
     },
     "execution_count": 377,
     "metadata": {},
     "output_type": "execute_result"
    }
   ],
   "source": [
    "# Rename `Close` Column to be specific to this portfolio.\n",
    "sp500_df.rename(columns = {'sp500_return':'SP500 Close'}, inplace = True)\n",
    "sp500_df.head()"
   ]
  },
  {
   "cell_type": "markdown",
   "metadata": {},
   "source": [
    "## Combine Whale, Algorithmic, and S&P 500 Returns"
   ]
  },
  {
   "cell_type": "code",
   "execution_count": 378,
   "metadata": {},
   "outputs": [
    {
     "data": {
      "text/html": [
       "<div>\n",
       "<style scoped>\n",
       "    .dataframe tbody tr th:only-of-type {\n",
       "        vertical-align: middle;\n",
       "    }\n",
       "\n",
       "    .dataframe tbody tr th {\n",
       "        vertical-align: top;\n",
       "    }\n",
       "\n",
       "    .dataframe thead th {\n",
       "        text-align: right;\n",
       "    }\n",
       "</style>\n",
       "<table border=\"1\" class=\"dataframe\">\n",
       "  <thead>\n",
       "    <tr style=\"text-align: right;\">\n",
       "      <th></th>\n",
       "      <th>Date</th>\n",
       "      <th>SOROS FUND MANAGEMENT LLC</th>\n",
       "      <th>PAULSON &amp; CO.INC.</th>\n",
       "      <th>TIGER GLOBAL MANAGEMENT LLC</th>\n",
       "      <th>BERKSHIRE HATHAWAY INC</th>\n",
       "      <th>Algo 1</th>\n",
       "      <th>Algo 2</th>\n",
       "      <th>Close</th>\n",
       "      <th>SP500 Close</th>\n",
       "    </tr>\n",
       "  </thead>\n",
       "  <tbody>\n",
       "    <tr>\n",
       "      <th>1</th>\n",
       "      <td>2015-03-03</td>\n",
       "      <td>-0.001266</td>\n",
       "      <td>-0.004981</td>\n",
       "      <td>-0.000496</td>\n",
       "      <td>-0.006569</td>\n",
       "      <td>NaN</td>\n",
       "      <td>NaN</td>\n",
       "      <td>NaN</td>\n",
       "      <td>NaN</td>\n",
       "    </tr>\n",
       "    <tr>\n",
       "      <th>2</th>\n",
       "      <td>2015-03-04</td>\n",
       "      <td>0.002230</td>\n",
       "      <td>0.003241</td>\n",
       "      <td>-0.002534</td>\n",
       "      <td>0.004213</td>\n",
       "      <td>NaN</td>\n",
       "      <td>NaN</td>\n",
       "      <td>NaN</td>\n",
       "      <td>NaN</td>\n",
       "    </tr>\n",
       "    <tr>\n",
       "      <th>3</th>\n",
       "      <td>2015-03-05</td>\n",
       "      <td>0.004016</td>\n",
       "      <td>0.004076</td>\n",
       "      <td>0.002355</td>\n",
       "      <td>0.006726</td>\n",
       "      <td>NaN</td>\n",
       "      <td>NaN</td>\n",
       "      <td>NaN</td>\n",
       "      <td>NaN</td>\n",
       "    </tr>\n",
       "    <tr>\n",
       "      <th>4</th>\n",
       "      <td>2015-03-06</td>\n",
       "      <td>-0.007905</td>\n",
       "      <td>-0.003574</td>\n",
       "      <td>-0.008481</td>\n",
       "      <td>-0.013098</td>\n",
       "      <td>NaN</td>\n",
       "      <td>NaN</td>\n",
       "      <td>NaN</td>\n",
       "      <td>NaN</td>\n",
       "    </tr>\n",
       "    <tr>\n",
       "      <th>5</th>\n",
       "      <td>2015-03-09</td>\n",
       "      <td>0.000582</td>\n",
       "      <td>0.004225</td>\n",
       "      <td>0.005843</td>\n",
       "      <td>-0.001652</td>\n",
       "      <td>NaN</td>\n",
       "      <td>NaN</td>\n",
       "      <td>NaN</td>\n",
       "      <td>NaN</td>\n",
       "    </tr>\n",
       "    <tr>\n",
       "      <th>...</th>\n",
       "      <td>...</td>\n",
       "      <td>...</td>\n",
       "      <td>...</td>\n",
       "      <td>...</td>\n",
       "      <td>...</td>\n",
       "      <td>...</td>\n",
       "      <td>...</td>\n",
       "      <td>...</td>\n",
       "      <td>...</td>\n",
       "    </tr>\n",
       "    <tr>\n",
       "      <th>4</th>\n",
       "      <td>2019-04-16 00:00:00</td>\n",
       "      <td>NaN</td>\n",
       "      <td>NaN</td>\n",
       "      <td>NaN</td>\n",
       "      <td>NaN</td>\n",
       "      <td>NaN</td>\n",
       "      <td>NaN</td>\n",
       "      <td>2907.06</td>\n",
       "      <td>0.000509</td>\n",
       "    </tr>\n",
       "    <tr>\n",
       "      <th>3</th>\n",
       "      <td>2019-04-17 00:00:00</td>\n",
       "      <td>NaN</td>\n",
       "      <td>NaN</td>\n",
       "      <td>NaN</td>\n",
       "      <td>NaN</td>\n",
       "      <td>NaN</td>\n",
       "      <td>NaN</td>\n",
       "      <td>2900.45</td>\n",
       "      <td>-0.002274</td>\n",
       "    </tr>\n",
       "    <tr>\n",
       "      <th>2</th>\n",
       "      <td>2019-04-18 00:00:00</td>\n",
       "      <td>NaN</td>\n",
       "      <td>NaN</td>\n",
       "      <td>NaN</td>\n",
       "      <td>NaN</td>\n",
       "      <td>NaN</td>\n",
       "      <td>NaN</td>\n",
       "      <td>2905.03</td>\n",
       "      <td>0.001579</td>\n",
       "    </tr>\n",
       "    <tr>\n",
       "      <th>1</th>\n",
       "      <td>2019-04-22 00:00:00</td>\n",
       "      <td>NaN</td>\n",
       "      <td>NaN</td>\n",
       "      <td>NaN</td>\n",
       "      <td>NaN</td>\n",
       "      <td>NaN</td>\n",
       "      <td>NaN</td>\n",
       "      <td>2907.97</td>\n",
       "      <td>0.001012</td>\n",
       "    </tr>\n",
       "    <tr>\n",
       "      <th>0</th>\n",
       "      <td>2019-04-23 00:00:00</td>\n",
       "      <td>NaN</td>\n",
       "      <td>NaN</td>\n",
       "      <td>NaN</td>\n",
       "      <td>NaN</td>\n",
       "      <td>NaN</td>\n",
       "      <td>NaN</td>\n",
       "      <td>2933.68</td>\n",
       "      <td>0.008841</td>\n",
       "    </tr>\n",
       "  </tbody>\n",
       "</table>\n",
       "<p>3942 rows × 9 columns</p>\n",
       "</div>"
      ],
      "text/plain": [
       "                   Date  SOROS FUND MANAGEMENT LLC  PAULSON & CO.INC.   \\\n",
       "1            2015-03-03                  -0.001266           -0.004981   \n",
       "2            2015-03-04                   0.002230            0.003241   \n",
       "3            2015-03-05                   0.004016            0.004076   \n",
       "4            2015-03-06                  -0.007905           -0.003574   \n",
       "5            2015-03-09                   0.000582            0.004225   \n",
       "..                  ...                        ...                 ...   \n",
       "4   2019-04-16 00:00:00                        NaN                 NaN   \n",
       "3   2019-04-17 00:00:00                        NaN                 NaN   \n",
       "2   2019-04-18 00:00:00                        NaN                 NaN   \n",
       "1   2019-04-22 00:00:00                        NaN                 NaN   \n",
       "0   2019-04-23 00:00:00                        NaN                 NaN   \n",
       "\n",
       "    TIGER GLOBAL MANAGEMENT LLC  BERKSHIRE HATHAWAY INC  Algo 1  Algo 2  \\\n",
       "1                     -0.000496               -0.006569     NaN     NaN   \n",
       "2                     -0.002534                0.004213     NaN     NaN   \n",
       "3                      0.002355                0.006726     NaN     NaN   \n",
       "4                     -0.008481               -0.013098     NaN     NaN   \n",
       "5                      0.005843               -0.001652     NaN     NaN   \n",
       "..                          ...                     ...     ...     ...   \n",
       "4                           NaN                     NaN     NaN     NaN   \n",
       "3                           NaN                     NaN     NaN     NaN   \n",
       "2                           NaN                     NaN     NaN     NaN   \n",
       "1                           NaN                     NaN     NaN     NaN   \n",
       "0                           NaN                     NaN     NaN     NaN   \n",
       "\n",
       "      Close  SP500 Close  \n",
       "1       NaN          NaN  \n",
       "2       NaN          NaN  \n",
       "3       NaN          NaN  \n",
       "4       NaN          NaN  \n",
       "5       NaN          NaN  \n",
       "..      ...          ...  \n",
       "4   2907.06     0.000509  \n",
       "3   2900.45    -0.002274  \n",
       "2   2905.03     0.001579  \n",
       "1   2907.97     0.001012  \n",
       "0   2933.68     0.008841  \n",
       "\n",
       "[3942 rows x 9 columns]"
      ]
     },
     "execution_count": 378,
     "metadata": {},
     "output_type": "execute_result"
    }
   ],
   "source": [
    "## join attempt 1\n",
    "# Join Whale Returns, Algorithmic Returns, and the S&P 500 Returns into a single DataFrame with columns for each portfolio's returns.\n",
    "df2 = pd.concat([whale_df, algo_df, sp500_df], join = \"outer\")\n",
    "df2"
   ]
  },
  {
   "cell_type": "code",
   "execution_count": 379,
   "metadata": {},
   "outputs": [
    {
     "name": "stderr",
     "output_type": "stream",
     "text": [
      "/var/folders/g2/1gmdxmzj43b092pwlfvgqz2w0000gn/T/ipykernel_35094/3945045443.py:3: SettingWithCopyWarning: \n",
      "A value is trying to be set on a copy of a slice from a DataFrame.\n",
      "Try using .loc[row_indexer,col_indexer] = value instead\n",
      "\n",
      "See the caveats in the documentation: https://pandas.pydata.org/pandas-docs/stable/user_guide/indexing.html#returning-a-view-versus-a-copy\n",
      "  whale_df['Date'] = whale_df['Date'].apply(pd.to_datetime)\n"
     ]
    },
    {
     "data": {
      "text/html": [
       "<div>\n",
       "<style scoped>\n",
       "    .dataframe tbody tr th:only-of-type {\n",
       "        vertical-align: middle;\n",
       "    }\n",
       "\n",
       "    .dataframe tbody tr th {\n",
       "        vertical-align: top;\n",
       "    }\n",
       "\n",
       "    .dataframe thead th {\n",
       "        text-align: right;\n",
       "    }\n",
       "</style>\n",
       "<table border=\"1\" class=\"dataframe\">\n",
       "  <thead>\n",
       "    <tr style=\"text-align: right;\">\n",
       "      <th></th>\n",
       "      <th>soros_return</th>\n",
       "      <th>paulson_return</th>\n",
       "      <th>tiger_return</th>\n",
       "      <th>bh_return</th>\n",
       "      <th>algo1_return</th>\n",
       "      <th>algo2_return</th>\n",
       "      <th>Close</th>\n",
       "      <th>SP500 Close</th>\n",
       "    </tr>\n",
       "    <tr>\n",
       "      <th>Date</th>\n",
       "      <th></th>\n",
       "      <th></th>\n",
       "      <th></th>\n",
       "      <th></th>\n",
       "      <th></th>\n",
       "      <th></th>\n",
       "      <th></th>\n",
       "      <th></th>\n",
       "    </tr>\n",
       "  </thead>\n",
       "  <tbody>\n",
       "    <tr>\n",
       "      <th>2015-03-03</th>\n",
       "      <td>-0.001266</td>\n",
       "      <td>-0.004981</td>\n",
       "      <td>-0.000496</td>\n",
       "      <td>-0.006569</td>\n",
       "      <td>-0.001942</td>\n",
       "      <td>-0.000949</td>\n",
       "      <td>2107.78</td>\n",
       "      <td>-0.004539</td>\n",
       "    </tr>\n",
       "    <tr>\n",
       "      <th>2015-03-04</th>\n",
       "      <td>0.002230</td>\n",
       "      <td>0.003241</td>\n",
       "      <td>-0.002534</td>\n",
       "      <td>0.004213</td>\n",
       "      <td>-0.008589</td>\n",
       "      <td>0.002416</td>\n",
       "      <td>2098.53</td>\n",
       "      <td>-0.004389</td>\n",
       "    </tr>\n",
       "    <tr>\n",
       "      <th>2015-03-05</th>\n",
       "      <td>0.004016</td>\n",
       "      <td>0.004076</td>\n",
       "      <td>0.002355</td>\n",
       "      <td>0.006726</td>\n",
       "      <td>-0.000955</td>\n",
       "      <td>0.004323</td>\n",
       "      <td>2101.04</td>\n",
       "      <td>0.001196</td>\n",
       "    </tr>\n",
       "    <tr>\n",
       "      <th>2015-03-06</th>\n",
       "      <td>-0.007905</td>\n",
       "      <td>-0.003574</td>\n",
       "      <td>-0.008481</td>\n",
       "      <td>-0.013098</td>\n",
       "      <td>-0.004957</td>\n",
       "      <td>-0.011460</td>\n",
       "      <td>2071.26</td>\n",
       "      <td>-0.014174</td>\n",
       "    </tr>\n",
       "    <tr>\n",
       "      <th>2015-03-09</th>\n",
       "      <td>0.000582</td>\n",
       "      <td>0.004225</td>\n",
       "      <td>0.005843</td>\n",
       "      <td>-0.001652</td>\n",
       "      <td>-0.005447</td>\n",
       "      <td>0.001303</td>\n",
       "      <td>2079.43</td>\n",
       "      <td>0.003944</td>\n",
       "    </tr>\n",
       "  </tbody>\n",
       "</table>\n",
       "</div>"
      ],
      "text/plain": [
       "            soros_return  paulson_return  tiger_return  bh_return  \\\n",
       "Date                                                                \n",
       "2015-03-03     -0.001266       -0.004981     -0.000496  -0.006569   \n",
       "2015-03-04      0.002230        0.003241     -0.002534   0.004213   \n",
       "2015-03-05      0.004016        0.004076      0.002355   0.006726   \n",
       "2015-03-06     -0.007905       -0.003574     -0.008481  -0.013098   \n",
       "2015-03-09      0.000582        0.004225      0.005843  -0.001652   \n",
       "\n",
       "            algo1_return  algo2_return    Close  SP500 Close  \n",
       "Date                                                          \n",
       "2015-03-03     -0.001942     -0.000949  2107.78    -0.004539  \n",
       "2015-03-04     -0.008589      0.002416  2098.53    -0.004389  \n",
       "2015-03-05     -0.000955      0.004323  2101.04     0.001196  \n",
       "2015-03-06     -0.004957     -0.011460  2071.26    -0.014174  \n",
       "2015-03-09     -0.005447      0.001303  2079.43     0.003944  "
      ]
     },
     "execution_count": 379,
     "metadata": {},
     "output_type": "execute_result"
    }
   ],
   "source": [
    "## join attempt 2 \n",
    "# Join Whale Returns, Algorithmic Returns, and the S&P 500 Returns into a single DataFrame with columns for each portfolio's returns.\n",
    "whale_df['Date'] = whale_df['Date'].apply(pd.to_datetime)\n",
    "algo_df['Date'] = algo_df['Date'].apply(pd.to_datetime)\n",
    "sp500_df['Date'] = sp500_df['Date'].apply(pd.to_datetime)\n",
    "\n",
    "joined_df = pd.merge(whale_df, algo_df, how=\"outer\", on=\"Date\")\n",
    "joined_df = pd.merge(joined_df, sp500_df, how=\"outer\", on=\"Date\")\n",
    "joined_df = joined_df.set_index(\"Date\")\n",
    "\n",
    "# Standardize column names\n",
    "joined_df = joined_df.rename(\n",
    "    columns={\n",
    "        \"SOROS FUND MANAGEMENT LLC\": \"soros_return\",\n",
    "        \"PAULSON & CO.INC. \": \"paulson_return\",\n",
    "        \"TIGER GLOBAL MANAGEMENT LLC\": \"tiger_return\",\n",
    "        \"BERKSHIRE HATHAWAY INC\": \"bh_return\",\n",
    "        \"Algo 1\": \"algo1_return\",\n",
    "        \"Algo 2\": \"algo2_return\",\n",
    "        }\n",
    "    )\n",
    "\n",
    "joined_df.head()"
   ]
  },
  {
   "cell_type": "markdown",
   "metadata": {},
   "source": [
    "---"
   ]
  },
  {
   "cell_type": "markdown",
   "metadata": {},
   "source": [
    "# Conduct Quantitative Analysis\n",
    "\n",
    "In this section, you will calculate and visualize performance and risk metrics for the portfolios."
   ]
  },
  {
   "cell_type": "markdown",
   "metadata": {},
   "source": [
    "## Performance Anlysis\n",
    "\n",
    "#### Calculate and Plot the daily returns."
   ]
  },
  {
   "cell_type": "code",
   "execution_count": 380,
   "metadata": {},
   "outputs": [
    {
     "data": {
      "text/plain": [
       "<AxesSubplot:xlabel='Date'>"
      ]
     },
     "execution_count": 380,
     "metadata": {},
     "output_type": "execute_result"
    },
    {
     "data": {
      "image/png": "[encoded data removed]",
      "text/plain": [
       "<Figure size 432x288 with 1 Axes>"
      ]
     },
     "metadata": {
      "needs_background": "light"
     },
     "output_type": "display_data"
    }
   ],
   "source": [
    "# Plot daily returns of all portfolios\n",
    "df2 = df2[df2.columns.drop('Close')]\n",
    "df2.set_index(\"Date\")[::-1].plot()"
   ]
  },
  {
   "cell_type": "code",
   "execution_count": 381,
   "metadata": {},
   "outputs": [
    {
     "data": {
      "text/plain": [
       "<AxesSubplot:xlabel='Date'>"
      ]
     },
     "execution_count": 381,
     "metadata": {},
     "output_type": "execute_result"
    },
    {
     "data": {
      "image/png": "[encoded data removed]",
      "text/plain": [
       "<Figure size 432x288 with 7 Axes>"
      ]
     },
     "metadata": {
      "needs_background": "light"
     },
     "output_type": "display_data"
    },
    {
     "data": {
      "image/png": "[encoded data removed]",
      "text/plain": [
       "<Figure size 432x288 with 1 Axes>"
      ]
     },
     "metadata": {
      "needs_background": "light"
     },
     "output_type": "display_data"
    }
   ],
   "source": [
    "# another way to plot \n",
    "returns_df = joined_df.drop(\"SP500 Close\", axis=1)\n",
    "axes = returns_df.plot(subplots=True)\n",
    "for ax in axes:\n",
    "    ax.plot()\n",
    "\n",
    "returns_df.plot()"
   ]
  },
  {
   "cell_type": "markdown",
   "metadata": {},
   "source": [
    "#### Calculate and Plot cumulative returns."
   ]
  },
  {
   "cell_type": "code",
   "execution_count": 382,
   "metadata": {},
   "outputs": [
    {
     "data": {
      "text/html": [
       "<div>\n",
       "<style scoped>\n",
       "    .dataframe tbody tr th:only-of-type {\n",
       "        vertical-align: middle;\n",
       "    }\n",
       "\n",
       "    .dataframe tbody tr th {\n",
       "        vertical-align: top;\n",
       "    }\n",
       "\n",
       "    .dataframe thead th {\n",
       "        text-align: right;\n",
       "    }\n",
       "</style>\n",
       "<table border=\"1\" class=\"dataframe\">\n",
       "  <thead>\n",
       "    <tr style=\"text-align: right;\">\n",
       "      <th></th>\n",
       "      <th>portfolio_name</th>\n",
       "      <th>cumulative_return</th>\n",
       "    </tr>\n",
       "  </thead>\n",
       "  <tbody>\n",
       "    <tr>\n",
       "      <th>0</th>\n",
       "      <td>soros_return</td>\n",
       "      <td>1.891519e-01</td>\n",
       "    </tr>\n",
       "    <tr>\n",
       "      <th>1</th>\n",
       "      <td>paulson_return</td>\n",
       "      <td>-2.150906e-01</td>\n",
       "    </tr>\n",
       "    <tr>\n",
       "      <th>2</th>\n",
       "      <td>tiger_return</td>\n",
       "      <td>-8.539324e-02</td>\n",
       "    </tr>\n",
       "    <tr>\n",
       "      <th>3</th>\n",
       "      <td>bh_return</td>\n",
       "      <td>5.303702e-01</td>\n",
       "    </tr>\n",
       "    <tr>\n",
       "      <th>4</th>\n",
       "      <td>algo1_return</td>\n",
       "      <td>8.079627e-01</td>\n",
       "    </tr>\n",
       "    <tr>\n",
       "      <th>5</th>\n",
       "      <td>algo2_return</td>\n",
       "      <td>4.210609e-01</td>\n",
       "    </tr>\n",
       "    <tr>\n",
       "      <th>6</th>\n",
       "      <td>Close</td>\n",
       "      <td>3.550962e+06</td>\n",
       "    </tr>\n",
       "  </tbody>\n",
       "</table>\n",
       "</div>"
      ],
      "text/plain": [
       "   portfolio_name  cumulative_return\n",
       "0    soros_return       1.891519e-01\n",
       "1  paulson_return      -2.150906e-01\n",
       "2    tiger_return      -8.539324e-02\n",
       "3       bh_return       5.303702e-01\n",
       "4    algo1_return       8.079627e-01\n",
       "5    algo2_return       4.210609e-01\n",
       "6           Close       3.550962e+06"
      ]
     },
     "execution_count": 382,
     "metadata": {},
     "output_type": "execute_result"
    },
    {
     "data": {
      "image/png": "[encoded data removed]",
      "text/plain": [
       "<Figure size 432x288 with 1 Axes>"
      ]
     },
     "metadata": {
      "needs_background": "light"
     },
     "output_type": "display_data"
    }
   ],
   "source": [
    "# Calculate cumulative returns of all portfolios\n",
    "cumulative_returns = [\n",
    "    {\n",
    "        \"portfolio_name\": col,\n",
    "        \"cumulative_return\": returns_df[col].sum()\n",
    "    }\n",
    "    for col in returns_df\n",
    "]\n",
    "\n",
    "# Plot cumulative returns\n",
    "cumulative_returns_df = pd.DataFrame(cumulative_returns)\n",
    "cumulative_returns_df.plot(x=\"portfolio_name\", y=\"cumulative_return\", kind='bar')\n",
    "cumulative_returns_df"
   ]
  },
  {
   "cell_type": "markdown",
   "metadata": {},
   "source": [
    "---"
   ]
  },
  {
   "cell_type": "markdown",
   "metadata": {},
   "source": [
    "## Risk Analysis\n",
    "\n",
    "Determine the _risk_ of each portfolio:\n",
    "\n",
    "1. Create a box plot for each portfolio. \n",
    "2. Calculate the standard deviation for all portfolios\n",
    "4. Determine which portfolios are riskier than the S&P 500\n",
    "5. Calculate the Annualized Standard Deviation"
   ]
  },
  {
   "cell_type": "markdown",
   "metadata": {},
   "source": [
    "### Create a box plot for each portfolio\n"
   ]
  },
  {
   "cell_type": "code",
   "execution_count": 383,
   "metadata": {},
   "outputs": [
    {
     "data": {
      "image/png": "[encoded data removed]",
      "text/plain": [
       "<Figure size 432x288 with 7 Axes>"
      ]
     },
     "metadata": {
      "needs_background": "light"
     },
     "output_type": "display_data"
    }
   ],
   "source": [
    "# Box plot to visually show risk\n",
    "axes = returns_df.plot(kind='box',subplots=True)\n",
    "for ax in axes:\n",
    "    ax.plot()"
   ]
  },
  {
   "cell_type": "markdown",
   "metadata": {},
   "source": [
    "### Calculate Standard Deviations"
   ]
  },
  {
   "cell_type": "code",
   "execution_count": 384,
   "metadata": {},
   "outputs": [
    {
     "data": {
      "text/plain": [
       "soros_return             NaN\n",
       "paulson_return           NaN\n",
       "tiger_return             NaN\n",
       "bh_return                NaN\n",
       "algo1_return       14.730470\n",
       "algo2_return      539.990171\n",
       "Close               0.013960\n",
       "dtype: float64"
      ]
     },
     "execution_count": 384,
     "metadata": {},
     "output_type": "execute_result"
    }
   ],
   "source": [
    "# Calculate the daily standard deviations of all portfolios\n",
    "returns_df.pct_change().std()"
   ]
  },
  {
   "cell_type": "markdown",
   "metadata": {},
   "source": [
    "### Determine which portfolios are riskier than the S&P 500"
   ]
  },
  {
   "cell_type": "code",
   "execution_count": 404,
   "metadata": {},
   "outputs": [
    {
     "ename": "TypeError",
     "evalue": "cannot perform __truediv__ with this index type: DatetimeArray",
     "output_type": "error",
     "traceback": [
      "\u001b[0;31m---------------------------------------------------------------------------\u001b[0m",
      "\u001b[0;31mTypeError\u001b[0m                                 Traceback (most recent call last)",
      "Input \u001b[0;32mIn [404]\u001b[0m, in \u001b[0;36m<cell line: 2>\u001b[0;34m()\u001b[0m\n\u001b[1;32m      1\u001b[0m \u001b[38;5;66;03m# Calculate the daily standard deviation of S&P 500\u001b[39;00m\n\u001b[0;32m----> 2\u001b[0m \u001b[43msp500_df\u001b[49m\u001b[38;5;241;43m.\u001b[39;49m\u001b[43mpct_change\u001b[49m\u001b[43m(\u001b[49m\u001b[43m)\u001b[49m\u001b[38;5;241m.\u001b[39mstd()\n",
      "File \u001b[0;32m~/opt/anaconda3/lib/python3.9/site-packages/pandas/core/generic.py:10366\u001b[0m, in \u001b[0;36mNDFrame.pct_change\u001b[0;34m(self, periods, fill_method, limit, freq, **kwargs)\u001b[0m\n\u001b[1;32m  10364\u001b[0m shifted \u001b[38;5;241m=\u001b[39m data\u001b[38;5;241m.\u001b[39mshift(periods\u001b[38;5;241m=\u001b[39mperiods, freq\u001b[38;5;241m=\u001b[39mfreq, axis\u001b[38;5;241m=\u001b[39maxis, \u001b[38;5;241m*\u001b[39m\u001b[38;5;241m*\u001b[39mkwargs)\n\u001b[1;32m  10365\u001b[0m \u001b[38;5;66;03m# Unsupported left operand type for / (\"NDFrameT\")\u001b[39;00m\n\u001b[0;32m> 10366\u001b[0m rs \u001b[38;5;241m=\u001b[39m \u001b[43mdata\u001b[49m\u001b[43m \u001b[49m\u001b[38;5;241;43m/\u001b[39;49m\u001b[43m \u001b[49m\u001b[43mshifted\u001b[49m \u001b[38;5;241m-\u001b[39m \u001b[38;5;241m1\u001b[39m  \u001b[38;5;66;03m# type: ignore[operator]\u001b[39;00m\n\u001b[1;32m  10367\u001b[0m \u001b[38;5;28;01mif\u001b[39;00m freq \u001b[38;5;129;01mis\u001b[39;00m \u001b[38;5;129;01mnot\u001b[39;00m \u001b[38;5;28;01mNone\u001b[39;00m:\n\u001b[1;32m  10368\u001b[0m     \u001b[38;5;66;03m# Shift method is implemented differently when freq is not None\u001b[39;00m\n\u001b[1;32m  10369\u001b[0m     \u001b[38;5;66;03m# We want to restore the original index\u001b[39;00m\n\u001b[1;32m  10370\u001b[0m     rs \u001b[38;5;241m=\u001b[39m rs\u001b[38;5;241m.\u001b[39mloc[\u001b[38;5;241m~\u001b[39mrs\u001b[38;5;241m.\u001b[39mindex\u001b[38;5;241m.\u001b[39mduplicated()]\n",
      "File \u001b[0;32m~/opt/anaconda3/lib/python3.9/site-packages/pandas/core/ops/common.py:70\u001b[0m, in \u001b[0;36m_unpack_zerodim_and_defer.<locals>.new_method\u001b[0;34m(self, other)\u001b[0m\n\u001b[1;32m     66\u001b[0m             \u001b[38;5;28;01mreturn\u001b[39;00m \u001b[38;5;28mNotImplemented\u001b[39m\n\u001b[1;32m     68\u001b[0m other \u001b[38;5;241m=\u001b[39m item_from_zerodim(other)\n\u001b[0;32m---> 70\u001b[0m \u001b[38;5;28;01mreturn\u001b[39;00m \u001b[43mmethod\u001b[49m\u001b[43m(\u001b[49m\u001b[38;5;28;43mself\u001b[39;49m\u001b[43m,\u001b[49m\u001b[43m \u001b[49m\u001b[43mother\u001b[49m\u001b[43m)\u001b[49m\n",
      "File \u001b[0;32m~/opt/anaconda3/lib/python3.9/site-packages/pandas/core/arraylike.py:124\u001b[0m, in \u001b[0;36mOpsMixin.__truediv__\u001b[0;34m(self, other)\u001b[0m\n\u001b[1;32m    122\u001b[0m \u001b[38;5;129m@unpack_zerodim_and_defer\u001b[39m(\u001b[38;5;124m\"\u001b[39m\u001b[38;5;124m__truediv__\u001b[39m\u001b[38;5;124m\"\u001b[39m)\n\u001b[1;32m    123\u001b[0m \u001b[38;5;28;01mdef\u001b[39;00m \u001b[38;5;21m__truediv__\u001b[39m(\u001b[38;5;28mself\u001b[39m, other):\n\u001b[0;32m--> 124\u001b[0m     \u001b[38;5;28;01mreturn\u001b[39;00m \u001b[38;5;28;43mself\u001b[39;49m\u001b[38;5;241;43m.\u001b[39;49m\u001b[43m_arith_method\u001b[49m\u001b[43m(\u001b[49m\u001b[43mother\u001b[49m\u001b[43m,\u001b[49m\u001b[43m \u001b[49m\u001b[43moperator\u001b[49m\u001b[38;5;241;43m.\u001b[39;49m\u001b[43mtruediv\u001b[49m\u001b[43m)\u001b[49m\n",
      "File \u001b[0;32m~/opt/anaconda3/lib/python3.9/site-packages/pandas/core/frame.py:6946\u001b[0m, in \u001b[0;36mDataFrame._arith_method\u001b[0;34m(self, other, op)\u001b[0m\n\u001b[1;32m   6942\u001b[0m other \u001b[38;5;241m=\u001b[39m ops\u001b[38;5;241m.\u001b[39mmaybe_prepare_scalar_for_op(other, (\u001b[38;5;28mself\u001b[39m\u001b[38;5;241m.\u001b[39mshape[axis],))\n\u001b[1;32m   6944\u001b[0m \u001b[38;5;28mself\u001b[39m, other \u001b[38;5;241m=\u001b[39m ops\u001b[38;5;241m.\u001b[39malign_method_FRAME(\u001b[38;5;28mself\u001b[39m, other, axis, flex\u001b[38;5;241m=\u001b[39m\u001b[38;5;28;01mTrue\u001b[39;00m, level\u001b[38;5;241m=\u001b[39m\u001b[38;5;28;01mNone\u001b[39;00m)\n\u001b[0;32m-> 6946\u001b[0m new_data \u001b[38;5;241m=\u001b[39m \u001b[38;5;28;43mself\u001b[39;49m\u001b[38;5;241;43m.\u001b[39;49m\u001b[43m_dispatch_frame_op\u001b[49m\u001b[43m(\u001b[49m\u001b[43mother\u001b[49m\u001b[43m,\u001b[49m\u001b[43m \u001b[49m\u001b[43mop\u001b[49m\u001b[43m,\u001b[49m\u001b[43m \u001b[49m\u001b[43maxis\u001b[49m\u001b[38;5;241;43m=\u001b[39;49m\u001b[43maxis\u001b[49m\u001b[43m)\u001b[49m\n\u001b[1;32m   6947\u001b[0m \u001b[38;5;28;01mreturn\u001b[39;00m \u001b[38;5;28mself\u001b[39m\u001b[38;5;241m.\u001b[39m_construct_result(new_data)\n",
      "File \u001b[0;32m~/opt/anaconda3/lib/python3.9/site-packages/pandas/core/frame.py:6985\u001b[0m, in \u001b[0;36mDataFrame._dispatch_frame_op\u001b[0;34m(self, right, func, axis)\u001b[0m\n\u001b[1;32m   6979\u001b[0m     \u001b[38;5;66;03m# TODO: The previous assertion `assert right._indexed_same(self)`\u001b[39;00m\n\u001b[1;32m   6980\u001b[0m     \u001b[38;5;66;03m#  fails in cases with empty columns reached via\u001b[39;00m\n\u001b[1;32m   6981\u001b[0m     \u001b[38;5;66;03m#  _frame_arith_method_with_reindex\u001b[39;00m\n\u001b[1;32m   6982\u001b[0m \n\u001b[1;32m   6983\u001b[0m     \u001b[38;5;66;03m# TODO operate_blockwise expects a manager of the same type\u001b[39;00m\n\u001b[1;32m   6984\u001b[0m     \u001b[38;5;28;01mwith\u001b[39;00m np\u001b[38;5;241m.\u001b[39merrstate(\u001b[38;5;28mall\u001b[39m\u001b[38;5;241m=\u001b[39m\u001b[38;5;124m\"\u001b[39m\u001b[38;5;124mignore\u001b[39m\u001b[38;5;124m\"\u001b[39m):\n\u001b[0;32m-> 6985\u001b[0m         bm \u001b[38;5;241m=\u001b[39m \u001b[38;5;28;43mself\u001b[39;49m\u001b[38;5;241;43m.\u001b[39;49m\u001b[43m_mgr\u001b[49m\u001b[38;5;241;43m.\u001b[39;49m\u001b[43moperate_blockwise\u001b[49m\u001b[43m(\u001b[49m\n\u001b[1;32m   6986\u001b[0m \u001b[43m            \u001b[49m\u001b[38;5;66;43;03m# error: Argument 1 to \"operate_blockwise\" of \"ArrayManager\" has\u001b[39;49;00m\n\u001b[1;32m   6987\u001b[0m \u001b[43m            \u001b[49m\u001b[38;5;66;43;03m# incompatible type \"Union[ArrayManager, BlockManager]\"; expected\u001b[39;49;00m\n\u001b[1;32m   6988\u001b[0m \u001b[43m            \u001b[49m\u001b[38;5;66;43;03m# \"ArrayManager\"\u001b[39;49;00m\n\u001b[1;32m   6989\u001b[0m \u001b[43m            \u001b[49m\u001b[38;5;66;43;03m# error: Argument 1 to \"operate_blockwise\" of \"BlockManager\" has\u001b[39;49;00m\n\u001b[1;32m   6990\u001b[0m \u001b[43m            \u001b[49m\u001b[38;5;66;43;03m# incompatible type \"Union[ArrayManager, BlockManager]\"; expected\u001b[39;49;00m\n\u001b[1;32m   6991\u001b[0m \u001b[43m            \u001b[49m\u001b[38;5;66;43;03m# \"BlockManager\"\u001b[39;49;00m\n\u001b[1;32m   6992\u001b[0m \u001b[43m            \u001b[49m\u001b[43mright\u001b[49m\u001b[38;5;241;43m.\u001b[39;49m\u001b[43m_mgr\u001b[49m\u001b[43m,\u001b[49m\u001b[43m  \u001b[49m\u001b[38;5;66;43;03m# type: ignore[arg-type]\u001b[39;49;00m\n\u001b[1;32m   6993\u001b[0m \u001b[43m            \u001b[49m\u001b[43marray_op\u001b[49m\u001b[43m,\u001b[49m\n\u001b[1;32m   6994\u001b[0m \u001b[43m        \u001b[49m\u001b[43m)\u001b[49m\n\u001b[1;32m   6995\u001b[0m     \u001b[38;5;28;01mreturn\u001b[39;00m \u001b[38;5;28mself\u001b[39m\u001b[38;5;241m.\u001b[39m_constructor(bm)\n\u001b[1;32m   6997\u001b[0m \u001b[38;5;28;01melif\u001b[39;00m \u001b[38;5;28misinstance\u001b[39m(right, Series) \u001b[38;5;129;01mand\u001b[39;00m axis \u001b[38;5;241m==\u001b[39m \u001b[38;5;241m1\u001b[39m:\n\u001b[1;32m   6998\u001b[0m     \u001b[38;5;66;03m# axis=1 means we want to operate row-by-row\u001b[39;00m\n",
      "File \u001b[0;32m~/opt/anaconda3/lib/python3.9/site-packages/pandas/core/internals/managers.py:1409\u001b[0m, in \u001b[0;36mBlockManager.operate_blockwise\u001b[0;34m(self, other, array_op)\u001b[0m\n\u001b[1;32m   1405\u001b[0m \u001b[38;5;28;01mdef\u001b[39;00m \u001b[38;5;21moperate_blockwise\u001b[39m(\u001b[38;5;28mself\u001b[39m, other: BlockManager, array_op) \u001b[38;5;241m-\u001b[39m\u001b[38;5;241m>\u001b[39m BlockManager:\n\u001b[1;32m   1406\u001b[0m     \u001b[38;5;124;03m\"\"\"\u001b[39;00m\n\u001b[1;32m   1407\u001b[0m \u001b[38;5;124;03m    Apply array_op blockwise with another (aligned) BlockManager.\u001b[39;00m\n\u001b[1;32m   1408\u001b[0m \u001b[38;5;124;03m    \"\"\"\u001b[39;00m\n\u001b[0;32m-> 1409\u001b[0m     \u001b[38;5;28;01mreturn\u001b[39;00m \u001b[43moperate_blockwise\u001b[49m\u001b[43m(\u001b[49m\u001b[38;5;28;43mself\u001b[39;49m\u001b[43m,\u001b[49m\u001b[43m \u001b[49m\u001b[43mother\u001b[49m\u001b[43m,\u001b[49m\u001b[43m \u001b[49m\u001b[43marray_op\u001b[49m\u001b[43m)\u001b[49m\n",
      "File \u001b[0;32m~/opt/anaconda3/lib/python3.9/site-packages/pandas/core/internals/ops.py:63\u001b[0m, in \u001b[0;36moperate_blockwise\u001b[0;34m(left, right, array_op)\u001b[0m\n\u001b[1;32m     61\u001b[0m res_blks: \u001b[38;5;28mlist\u001b[39m[Block] \u001b[38;5;241m=\u001b[39m []\n\u001b[1;32m     62\u001b[0m \u001b[38;5;28;01mfor\u001b[39;00m lvals, rvals, locs, left_ea, right_ea, rblk \u001b[38;5;129;01min\u001b[39;00m _iter_block_pairs(left, right):\n\u001b[0;32m---> 63\u001b[0m     res_values \u001b[38;5;241m=\u001b[39m \u001b[43marray_op\u001b[49m\u001b[43m(\u001b[49m\u001b[43mlvals\u001b[49m\u001b[43m,\u001b[49m\u001b[43m \u001b[49m\u001b[43mrvals\u001b[49m\u001b[43m)\u001b[49m\n\u001b[1;32m     64\u001b[0m     \u001b[38;5;28;01mif\u001b[39;00m left_ea \u001b[38;5;129;01mand\u001b[39;00m \u001b[38;5;129;01mnot\u001b[39;00m right_ea \u001b[38;5;129;01mand\u001b[39;00m \u001b[38;5;28mhasattr\u001b[39m(res_values, \u001b[38;5;124m\"\u001b[39m\u001b[38;5;124mreshape\u001b[39m\u001b[38;5;124m\"\u001b[39m):\n\u001b[1;32m     65\u001b[0m         res_values \u001b[38;5;241m=\u001b[39m res_values\u001b[38;5;241m.\u001b[39mreshape(\u001b[38;5;241m1\u001b[39m, \u001b[38;5;241m-\u001b[39m\u001b[38;5;241m1\u001b[39m)\n",
      "File \u001b[0;32m~/opt/anaconda3/lib/python3.9/site-packages/pandas/core/ops/array_ops.py:216\u001b[0m, in \u001b[0;36marithmetic_op\u001b[0;34m(left, right, op)\u001b[0m\n\u001b[1;32m    203\u001b[0m \u001b[38;5;66;03m# NB: We assume that extract_array and ensure_wrapped_if_datetimelike\u001b[39;00m\n\u001b[1;32m    204\u001b[0m \u001b[38;5;66;03m#  have already been called on `left` and `right`,\u001b[39;00m\n\u001b[1;32m    205\u001b[0m \u001b[38;5;66;03m#  and `maybe_prepare_scalar_for_op` has already been called on `right`\u001b[39;00m\n\u001b[1;32m    206\u001b[0m \u001b[38;5;66;03m# We need to special-case datetime64/timedelta64 dtypes (e.g. because numpy\u001b[39;00m\n\u001b[1;32m    207\u001b[0m \u001b[38;5;66;03m# casts integer dtypes to timedelta64 when operating with timedelta64 - GH#22390)\u001b[39;00m\n\u001b[1;32m    209\u001b[0m \u001b[38;5;28;01mif\u001b[39;00m (\n\u001b[1;32m    210\u001b[0m     should_extension_dispatch(left, right)\n\u001b[1;32m    211\u001b[0m     \u001b[38;5;129;01mor\u001b[39;00m \u001b[38;5;28misinstance\u001b[39m(right, (Timedelta, BaseOffset, Timestamp))\n\u001b[0;32m   (...)\u001b[0m\n\u001b[1;32m    214\u001b[0m     \u001b[38;5;66;03m# Timedelta/Timestamp and other custom scalars are included in the check\u001b[39;00m\n\u001b[1;32m    215\u001b[0m     \u001b[38;5;66;03m# because numexpr will fail on it, see GH#31457\u001b[39;00m\n\u001b[0;32m--> 216\u001b[0m     res_values \u001b[38;5;241m=\u001b[39m \u001b[43mop\u001b[49m\u001b[43m(\u001b[49m\u001b[43mleft\u001b[49m\u001b[43m,\u001b[49m\u001b[43m \u001b[49m\u001b[43mright\u001b[49m\u001b[43m)\u001b[49m\n\u001b[1;32m    217\u001b[0m \u001b[38;5;28;01melse\u001b[39;00m:\n\u001b[1;32m    218\u001b[0m     \u001b[38;5;66;03m# TODO we should handle EAs consistently and move this check before the if/else\u001b[39;00m\n\u001b[1;32m    219\u001b[0m     \u001b[38;5;66;03m# (https://github.com/pandas-dev/pandas/issues/41165)\u001b[39;00m\n\u001b[1;32m    220\u001b[0m     _bool_arith_check(op, left, right)\n",
      "File \u001b[0;32m~/opt/anaconda3/lib/python3.9/site-packages/pandas/core/ops/invalid.py:53\u001b[0m, in \u001b[0;36mmake_invalid_op.<locals>.invalid_op\u001b[0;34m(self, other)\u001b[0m\n\u001b[1;32m     51\u001b[0m \u001b[38;5;28;01mdef\u001b[39;00m \u001b[38;5;21minvalid_op\u001b[39m(\u001b[38;5;28mself\u001b[39m, other\u001b[38;5;241m=\u001b[39m\u001b[38;5;28;01mNone\u001b[39;00m):\n\u001b[1;32m     52\u001b[0m     typ \u001b[38;5;241m=\u001b[39m \u001b[38;5;28mtype\u001b[39m(\u001b[38;5;28mself\u001b[39m)\u001b[38;5;241m.\u001b[39m\u001b[38;5;18m__name__\u001b[39m\n\u001b[0;32m---> 53\u001b[0m     \u001b[38;5;28;01mraise\u001b[39;00m \u001b[38;5;167;01mTypeError\u001b[39;00m(\u001b[38;5;124mf\u001b[39m\u001b[38;5;124m\"\u001b[39m\u001b[38;5;124mcannot perform \u001b[39m\u001b[38;5;132;01m{\u001b[39;00mname\u001b[38;5;132;01m}\u001b[39;00m\u001b[38;5;124m with this index type: \u001b[39m\u001b[38;5;132;01m{\u001b[39;00mtyp\u001b[38;5;132;01m}\u001b[39;00m\u001b[38;5;124m\"\u001b[39m)\n",
      "\u001b[0;31mTypeError\u001b[0m: cannot perform __truediv__ with this index type: DatetimeArray"
     ]
    }
   ],
   "source": [
    "# Calculate the daily standard deviation of S&P 500\n",
    "sp500_df.pct_change().std()\n",
    "\n",
    "# Determine which portfolios are riskier than the S&P 500\n"
   ]
  },
  {
   "cell_type": "markdown",
   "metadata": {},
   "source": [
    "### Calculate the Annualized Standard Deviation"
   ]
  },
  {
   "cell_type": "code",
   "execution_count": 386,
   "metadata": {},
   "outputs": [
    {
     "data": {
      "text/plain": [
       "soros_return              NaN\n",
       "paulson_return            NaN\n",
       "tiger_return              NaN\n",
       "bh_return                 NaN\n",
       "algo1_return       233.838956\n",
       "algo2_return      8572.078215\n",
       "Close                0.221604\n",
       "dtype: float64"
      ]
     },
     "execution_count": 386,
     "metadata": {},
     "output_type": "execute_result"
    }
   ],
   "source": [
    "# Calculate the annualized standard deviation (252 trading days)\n",
    "returns_df.pct_change().std()*np.sqrt(252)"
   ]
  },
  {
   "cell_type": "markdown",
   "metadata": {},
   "source": [
    "---"
   ]
  },
  {
   "cell_type": "markdown",
   "metadata": {},
   "source": [
    "## Rolling Statistics\n",
    "\n",
    "Risk changes over time. Analyze the rolling statistics for Risk and Beta. \n",
    "\n",
    "1. Calculate and plot the rolling standard deviation for all portfolios using a 21-day window\n",
    "2. Calculate the correlation between each stock to determine which portfolios may mimick the S&P 500\n",
    "3. Choose one portfolio, then calculate and plot the 60-day rolling beta between it and the S&P 500"
   ]
  },
  {
   "cell_type": "markdown",
   "metadata": {},
   "source": [
    "### Calculate and plot rolling `std` for all portfolios with 21-day window"
   ]
  },
  {
   "cell_type": "code",
   "execution_count": 387,
   "metadata": {},
   "outputs": [
    {
     "data": {
      "text/plain": [
       "<AxesSubplot:xlabel='Date'>"
      ]
     },
     "execution_count": 387,
     "metadata": {},
     "output_type": "execute_result"
    },
    {
     "data": {
      "image/png": "[encoded data removed]",
      "text/plain": [
       "<Figure size 432x288 with 7 Axes>"
      ]
     },
     "metadata": {
      "needs_background": "light"
     },
     "output_type": "display_data"
    },
    {
     "data": {
      "image/png": "[encoded data removed]",
      "text/plain": [
       "<Figure size 432x288 with 1 Axes>"
      ]
     },
     "metadata": {
      "needs_background": "light"
     },
     "output_type": "display_data"
    }
   ],
   "source": [
    "# Calculate the rolling standard deviation for all portfolios using a 21-day window\n",
    "axes = returns_df.rolling(21).std().dropna().plot(subplots=True)\n",
    "for ax in axes:\n",
    "    ax.plot()\n",
    "\n",
    "# Plot the rolling standard deviation\n",
    "returns_df.rolling(21).std().dropna().plot()"
   ]
  },
  {
   "cell_type": "markdown",
   "metadata": {},
   "source": [
    "### Calculate and plot the correlation"
   ]
  },
  {
   "cell_type": "code",
   "execution_count": 388,
   "metadata": {},
   "outputs": [
    {
     "data": {
      "text/html": [
       "<div>\n",
       "<style scoped>\n",
       "    .dataframe tbody tr th:only-of-type {\n",
       "        vertical-align: middle;\n",
       "    }\n",
       "\n",
       "    .dataframe tbody tr th {\n",
       "        vertical-align: top;\n",
       "    }\n",
       "\n",
       "    .dataframe thead th {\n",
       "        text-align: right;\n",
       "    }\n",
       "</style>\n",
       "<table border=\"1\" class=\"dataframe\">\n",
       "  <thead>\n",
       "    <tr style=\"text-align: right;\">\n",
       "      <th></th>\n",
       "      <th>soros_return</th>\n",
       "      <th>paulson_return</th>\n",
       "      <th>tiger_return</th>\n",
       "      <th>bh_return</th>\n",
       "      <th>algo1_return</th>\n",
       "      <th>algo2_return</th>\n",
       "      <th>Close</th>\n",
       "    </tr>\n",
       "  </thead>\n",
       "  <tbody>\n",
       "    <tr>\n",
       "      <th>soros_return</th>\n",
       "      <td>1.000000</td>\n",
       "      <td>0.681266</td>\n",
       "      <td>0.474111</td>\n",
       "      <td>0.841707</td>\n",
       "      <td>0.739512</td>\n",
       "      <td>0.847532</td>\n",
       "      <td>0.793562</td>\n",
       "    </tr>\n",
       "    <tr>\n",
       "      <th>paulson_return</th>\n",
       "      <td>0.681266</td>\n",
       "      <td>1.000000</td>\n",
       "      <td>0.427931</td>\n",
       "      <td>0.666986</td>\n",
       "      <td>0.669221</td>\n",
       "      <td>0.728633</td>\n",
       "      <td>0.536062</td>\n",
       "    </tr>\n",
       "    <tr>\n",
       "      <th>tiger_return</th>\n",
       "      <td>0.474111</td>\n",
       "      <td>0.427931</td>\n",
       "      <td>1.000000</td>\n",
       "      <td>0.456359</td>\n",
       "      <td>0.273470</td>\n",
       "      <td>0.346418</td>\n",
       "      <td>0.410746</td>\n",
       "    </tr>\n",
       "    <tr>\n",
       "      <th>bh_return</th>\n",
       "      <td>0.841707</td>\n",
       "      <td>0.666986</td>\n",
       "      <td>0.456359</td>\n",
       "      <td>1.000000</td>\n",
       "      <td>0.800786</td>\n",
       "      <td>0.789620</td>\n",
       "      <td>0.756561</td>\n",
       "    </tr>\n",
       "    <tr>\n",
       "      <th>algo1_return</th>\n",
       "      <td>0.739512</td>\n",
       "      <td>0.669221</td>\n",
       "      <td>0.273470</td>\n",
       "      <td>0.800786</td>\n",
       "      <td>1.000000</td>\n",
       "      <td>0.756813</td>\n",
       "      <td>0.536777</td>\n",
       "    </tr>\n",
       "    <tr>\n",
       "      <th>algo2_return</th>\n",
       "      <td>0.847532</td>\n",
       "      <td>0.728633</td>\n",
       "      <td>0.346418</td>\n",
       "      <td>0.789620</td>\n",
       "      <td>0.756813</td>\n",
       "      <td>1.000000</td>\n",
       "      <td>0.746523</td>\n",
       "    </tr>\n",
       "    <tr>\n",
       "      <th>Close</th>\n",
       "      <td>0.793562</td>\n",
       "      <td>0.536062</td>\n",
       "      <td>0.410746</td>\n",
       "      <td>0.756561</td>\n",
       "      <td>0.536777</td>\n",
       "      <td>0.746523</td>\n",
       "      <td>1.000000</td>\n",
       "    </tr>\n",
       "  </tbody>\n",
       "</table>\n",
       "</div>"
      ],
      "text/plain": [
       "                soros_return  paulson_return  tiger_return  bh_return  \\\n",
       "soros_return        1.000000        0.681266      0.474111   0.841707   \n",
       "paulson_return      0.681266        1.000000      0.427931   0.666986   \n",
       "tiger_return        0.474111        0.427931      1.000000   0.456359   \n",
       "bh_return           0.841707        0.666986      0.456359   1.000000   \n",
       "algo1_return        0.739512        0.669221      0.273470   0.800786   \n",
       "algo2_return        0.847532        0.728633      0.346418   0.789620   \n",
       "Close               0.793562        0.536062      0.410746   0.756561   \n",
       "\n",
       "                algo1_return  algo2_return     Close  \n",
       "soros_return        0.739512      0.847532  0.793562  \n",
       "paulson_return      0.669221      0.728633  0.536062  \n",
       "tiger_return        0.273470      0.346418  0.410746  \n",
       "bh_return           0.800786      0.789620  0.756561  \n",
       "algo1_return        1.000000      0.756813  0.536777  \n",
       "algo2_return        0.756813      1.000000  0.746523  \n",
       "Close               0.536777      0.746523  1.000000  "
      ]
     },
     "execution_count": 388,
     "metadata": {},
     "output_type": "execute_result"
    }
   ],
   "source": [
    "# Calculate the correlation\n",
    "returns_df.rolling(21).std().dropna().corr()\n",
    "# Display de correlation matrix\n"
   ]
  },
  {
   "cell_type": "markdown",
   "metadata": {},
   "source": [
    "### Calculate and Plot Beta for a chosen portfolio and the S&P 500"
   ]
  },
  {
   "cell_type": "code",
   "execution_count": 389,
   "metadata": {},
   "outputs": [],
   "source": [
    "# Calculate covariance of a single portfolio\n",
    "\n",
    "# Calculate variance of S&P 500\n",
    "\n",
    "# Computing beta\n",
    "\n",
    "# Plot beta trend\n"
   ]
  },
  {
   "cell_type": "markdown",
   "metadata": {},
   "source": [
    "## Rolling Statistics Challenge: Exponentially Weighted Average \n",
    "\n",
    "An alternative way to calculate a rolling window is to take the exponentially weighted moving average. This is like a moving window average, but it assigns greater importance to more recent observations. Try calculating the [`ewm`](https://pandas.pydata.org/pandas-docs/stable/reference/api/pandas.DataFrame.ewm.html) with a 21-day half life for each portfolio, using standard deviation (`std`) as the metric of interest."
   ]
  },
  {
   "cell_type": "code",
   "execution_count": 390,
   "metadata": {},
   "outputs": [],
   "source": [
    "# Use `ewm` to calculate the rolling window\n"
   ]
  },
  {
   "cell_type": "markdown",
   "metadata": {},
   "source": [
    "---"
   ]
  },
  {
   "cell_type": "markdown",
   "metadata": {},
   "source": [
    "# Sharpe Ratios\n",
    "In reality, investment managers and thier institutional investors look at the ratio of return-to-risk, and not just returns alone. After all, if you could invest in one of two portfolios, and each offered the same 10% return, yet one offered lower risk, you'd take that one, right?\n",
    "\n",
    "### Using the daily returns, calculate and visualize the Sharpe ratios using a bar plot"
   ]
  },
  {
   "cell_type": "code",
   "execution_count": null,
   "metadata": {},
   "outputs": [],
   "source": []
  },
  {
   "cell_type": "code",
   "execution_count": 391,
   "metadata": {},
   "outputs": [
    {
     "data": {
      "text/plain": [
       "soros_return      0.022777\n",
       "paulson_return   -0.029112\n",
       "tiger_return     -0.007450\n",
       "bh_return         0.039033\n",
       "algo1_return      0.081903\n",
       "algo2_return      0.040269\n",
       "Close             5.361797\n",
       "dtype: float64"
      ]
     },
     "execution_count": 391,
     "metadata": {},
     "output_type": "execute_result"
    }
   ],
   "source": [
    "## sharpe_ratio = (portfolio - risk_free)/deviation_annual\n",
    "sharpe_ratio = returns_df.mean()/returns_df.std()\n",
    "sharpe_ratio"
   ]
  },
  {
   "cell_type": "code",
   "execution_count": 392,
   "metadata": {},
   "outputs": [
    {
     "data": {
      "text/plain": [
       "soros_return      623112.617169\n",
       "paulson_return    700375.022094\n",
       "tiger_return      451431.833804\n",
       "bh_return         380836.648689\n",
       "algo1_return      611742.888509\n",
       "algo2_return      577150.926806\n",
       "Close                 12.159421\n",
       "dtype: float64"
      ]
     },
     "execution_count": 392,
     "metadata": {},
     "output_type": "execute_result"
    }
   ],
   "source": [
    "# Annualized Sharpe Ratios\n",
    "# I asked my instructor and he said it was ok to assume the risk free rate is zero because it is not given\n",
    "sharpe_ratios = ((returns_df.mean().mean())*252 ) \\\n",
    "                                                / (returns_df.std()*np.sqrt(252))\n",
    "sharpe_ratios"
   ]
  },
  {
   "cell_type": "code",
   "execution_count": 393,
   "metadata": {},
   "outputs": [
    {
     "ename": "TypeError",
     "evalue": "'AxesSubplot' object is not iterable",
     "output_type": "error",
     "traceback": [
      "\u001b[0;31m---------------------------------------------------------------------------\u001b[0m",
      "\u001b[0;31mTypeError\u001b[0m                                 Traceback (most recent call last)",
      "Input \u001b[0;32mIn [393]\u001b[0m, in \u001b[0;36m<cell line: 4>\u001b[0;34m()\u001b[0m\n\u001b[1;32m      1\u001b[0m \u001b[38;5;66;03m# this would work if I could calculate the risk free rate\u001b[39;00m\n\u001b[1;32m      2\u001b[0m \u001b[38;5;66;03m# Visualize the sharpe ratios as a bar plot\u001b[39;00m\n\u001b[1;32m      3\u001b[0m axes \u001b[38;5;241m=\u001b[39m sharpe_ratios\u001b[38;5;241m.\u001b[39mplot(kind\u001b[38;5;241m=\u001b[39m\u001b[38;5;124m'\u001b[39m\u001b[38;5;124mbox\u001b[39m\u001b[38;5;124m'\u001b[39m)\n\u001b[0;32m----> 4\u001b[0m \u001b[38;5;28;01mfor\u001b[39;00m ax \u001b[38;5;129;01min\u001b[39;00m axes:\n\u001b[1;32m      5\u001b[0m     ax\u001b[38;5;241m.\u001b[39mplot()\n",
      "\u001b[0;31mTypeError\u001b[0m: 'AxesSubplot' object is not iterable"
     ]
    },
    {
     "data": {
      "image/png": "[encoded data removed]",
      "text/plain": [
       "<Figure size 432x288 with 1 Axes>"
      ]
     },
     "metadata": {
      "needs_background": "light"
     },
     "output_type": "display_data"
    }
   ],
   "source": [
    "# this would work if I could calculate the risk free rate\n",
    "# Visualize the sharpe ratios as a bar plot\n",
    "axes = sharpe_ratios.plot(kind='box')\n",
    "for ax in axes:\n",
    "    ax.plot()"
   ]
  },
  {
   "cell_type": "markdown",
   "metadata": {},
   "source": [
    "### Determine whether the algorithmic strategies outperform both the market (S&P 500) and the whales portfolios.\n",
    "\n",
    "No, the algorithmic strategies do not outperform the market (S&P 500) but they do out perform the whales portfolio."
   ]
  },
  {
   "cell_type": "markdown",
   "metadata": {},
   "source": [
    "---"
   ]
  },
  {
   "cell_type": "markdown",
   "metadata": {},
   "source": [
    "# Create Custom Portfolio\n",
    "\n",
    "In this section, you will build your own portfolio of stocks, calculate the returns, and compare the results to the Whale Portfolios and the S&P 500. \n",
    "\n",
    "1. Choose 3-5 custom stocks with at last 1 year's worth of historic prices and create a DataFrame of the closing prices and dates for each stock.\n",
    "2. Calculate the weighted returns for the portfolio assuming an equal number of shares for each stock\n",
    "3. Join your portfolio returns to the DataFrame that contains all of the portfolio returns\n",
    "4. Re-run the performance and risk analysis with your portfolio to see how it compares to the others\n",
    "5. Include correlation analysis to determine which stocks (if any) are correlated"
   ]
  },
  {
   "cell_type": "markdown",
   "metadata": {},
   "source": [
    "## Choose 3-5 custom stocks with at last 1 year's worth of historic prices and create a DataFrame of the closing prices and dates for each stock."
   ]
  },
  {
   "cell_type": "code",
   "execution_count": 394,
   "metadata": {},
   "outputs": [
    {
     "data": {
      "text/html": [
       "<div>\n",
       "<style scoped>\n",
       "    .dataframe tbody tr th:only-of-type {\n",
       "        vertical-align: middle;\n",
       "    }\n",
       "\n",
       "    .dataframe tbody tr th {\n",
       "        vertical-align: top;\n",
       "    }\n",
       "\n",
       "    .dataframe thead th {\n",
       "        text-align: right;\n",
       "    }\n",
       "</style>\n",
       "<table border=\"1\" class=\"dataframe\">\n",
       "  <thead>\n",
       "    <tr style=\"text-align: right;\">\n",
       "      <th></th>\n",
       "      <th>Symbol</th>\n",
       "      <th>Trade DATE</th>\n",
       "      <th>NOCP</th>\n",
       "    </tr>\n",
       "  </thead>\n",
       "  <tbody>\n",
       "    <tr>\n",
       "      <th>0</th>\n",
       "      <td>COST</td>\n",
       "      <td>5/9/2019</td>\n",
       "      <td>243.47</td>\n",
       "    </tr>\n",
       "    <tr>\n",
       "      <th>1</th>\n",
       "      <td>COST</td>\n",
       "      <td>5/8/2019</td>\n",
       "      <td>241.34</td>\n",
       "    </tr>\n",
       "    <tr>\n",
       "      <th>2</th>\n",
       "      <td>COST</td>\n",
       "      <td>5/7/2019</td>\n",
       "      <td>240.18</td>\n",
       "    </tr>\n",
       "    <tr>\n",
       "      <th>3</th>\n",
       "      <td>COST</td>\n",
       "      <td>5/6/2019</td>\n",
       "      <td>244.23</td>\n",
       "    </tr>\n",
       "    <tr>\n",
       "      <th>4</th>\n",
       "      <td>COST</td>\n",
       "      <td>5/3/2019</td>\n",
       "      <td>244.62</td>\n",
       "    </tr>\n",
       "  </tbody>\n",
       "</table>\n",
       "</div>"
      ],
      "text/plain": [
       "  Symbol Trade DATE    NOCP\n",
       "0   COST   5/9/2019  243.47\n",
       "1   COST   5/8/2019  241.34\n",
       "2   COST   5/7/2019  240.18\n",
       "3   COST   5/6/2019  244.23\n",
       "4   COST   5/3/2019  244.62"
      ]
     },
     "execution_count": 394,
     "metadata": {},
     "output_type": "execute_result"
    }
   ],
   "source": [
    "### I used the provided csvs because google finance was down! \n",
    "# Reading data from 1st stock\n",
    "cost_path = Path('Resources/cost_historical.csv')\n",
    "cost_df = pd.read_csv(cost_path)\n",
    "cost_df.head()"
   ]
  },
  {
   "cell_type": "code",
   "execution_count": 395,
   "metadata": {},
   "outputs": [
    {
     "data": {
      "text/html": [
       "<div>\n",
       "<style scoped>\n",
       "    .dataframe tbody tr th:only-of-type {\n",
       "        vertical-align: middle;\n",
       "    }\n",
       "\n",
       "    .dataframe tbody tr th {\n",
       "        vertical-align: top;\n",
       "    }\n",
       "\n",
       "    .dataframe thead th {\n",
       "        text-align: right;\n",
       "    }\n",
       "</style>\n",
       "<table border=\"1\" class=\"dataframe\">\n",
       "  <thead>\n",
       "    <tr style=\"text-align: right;\">\n",
       "      <th></th>\n",
       "      <th>Symbol</th>\n",
       "      <th>Trade DATE</th>\n",
       "      <th>NOCP</th>\n",
       "    </tr>\n",
       "  </thead>\n",
       "  <tbody>\n",
       "    <tr>\n",
       "      <th>0</th>\n",
       "      <td>AAPL</td>\n",
       "      <td>5/9/2019</td>\n",
       "      <td>200.72</td>\n",
       "    </tr>\n",
       "    <tr>\n",
       "      <th>1</th>\n",
       "      <td>AAPL</td>\n",
       "      <td>5/8/2019</td>\n",
       "      <td>202.90</td>\n",
       "    </tr>\n",
       "    <tr>\n",
       "      <th>2</th>\n",
       "      <td>AAPL</td>\n",
       "      <td>5/7/2019</td>\n",
       "      <td>202.86</td>\n",
       "    </tr>\n",
       "    <tr>\n",
       "      <th>3</th>\n",
       "      <td>AAPL</td>\n",
       "      <td>5/6/2019</td>\n",
       "      <td>208.48</td>\n",
       "    </tr>\n",
       "    <tr>\n",
       "      <th>4</th>\n",
       "      <td>AAPL</td>\n",
       "      <td>5/3/2019</td>\n",
       "      <td>211.75</td>\n",
       "    </tr>\n",
       "  </tbody>\n",
       "</table>\n",
       "</div>"
      ],
      "text/plain": [
       "  Symbol Trade DATE    NOCP\n",
       "0   AAPL   5/9/2019  200.72\n",
       "1   AAPL   5/8/2019  202.90\n",
       "2   AAPL   5/7/2019  202.86\n",
       "3   AAPL   5/6/2019  208.48\n",
       "4   AAPL   5/3/2019  211.75"
      ]
     },
     "execution_count": 395,
     "metadata": {},
     "output_type": "execute_result"
    }
   ],
   "source": [
    "# Reading data from 2nd stock\n",
    "aapl_path = Path('Resources/aapl_historical.csv')\n",
    "aapl_df = pd.read_csv(aapl_path)\n",
    "aapl_df.head()"
   ]
  },
  {
   "cell_type": "code",
   "execution_count": 396,
   "metadata": {},
   "outputs": [
    {
     "data": {
      "text/html": [
       "<div>\n",
       "<style scoped>\n",
       "    .dataframe tbody tr th:only-of-type {\n",
       "        vertical-align: middle;\n",
       "    }\n",
       "\n",
       "    .dataframe tbody tr th {\n",
       "        vertical-align: top;\n",
       "    }\n",
       "\n",
       "    .dataframe thead th {\n",
       "        text-align: right;\n",
       "    }\n",
       "</style>\n",
       "<table border=\"1\" class=\"dataframe\">\n",
       "  <thead>\n",
       "    <tr style=\"text-align: right;\">\n",
       "      <th></th>\n",
       "      <th>Symbol</th>\n",
       "      <th>Trade DATE</th>\n",
       "      <th>NOCP</th>\n",
       "    </tr>\n",
       "  </thead>\n",
       "  <tbody>\n",
       "    <tr>\n",
       "      <th>0</th>\n",
       "      <td>GOOG</td>\n",
       "      <td>5/9/2019</td>\n",
       "      <td>1162.38</td>\n",
       "    </tr>\n",
       "    <tr>\n",
       "      <th>1</th>\n",
       "      <td>GOOG</td>\n",
       "      <td>5/8/2019</td>\n",
       "      <td>1166.27</td>\n",
       "    </tr>\n",
       "    <tr>\n",
       "      <th>2</th>\n",
       "      <td>GOOG</td>\n",
       "      <td>5/7/2019</td>\n",
       "      <td>1174.10</td>\n",
       "    </tr>\n",
       "    <tr>\n",
       "      <th>3</th>\n",
       "      <td>GOOG</td>\n",
       "      <td>5/6/2019</td>\n",
       "      <td>1189.39</td>\n",
       "    </tr>\n",
       "    <tr>\n",
       "      <th>4</th>\n",
       "      <td>GOOG</td>\n",
       "      <td>5/3/2019</td>\n",
       "      <td>1185.40</td>\n",
       "    </tr>\n",
       "  </tbody>\n",
       "</table>\n",
       "</div>"
      ],
      "text/plain": [
       "  Symbol Trade DATE     NOCP\n",
       "0   GOOG   5/9/2019  1162.38\n",
       "1   GOOG   5/8/2019  1166.27\n",
       "2   GOOG   5/7/2019  1174.10\n",
       "3   GOOG   5/6/2019  1189.39\n",
       "4   GOOG   5/3/2019  1185.40"
      ]
     },
     "execution_count": 396,
     "metadata": {},
     "output_type": "execute_result"
    }
   ],
   "source": [
    "# Reading data from 3rd stock\n",
    "goog_path = Path('Resources/goog_historical.csv')\n",
    "goog_df = pd.read_csv(goog_path)\n",
    "goog_df.head()"
   ]
  },
  {
   "cell_type": "code",
   "execution_count": 397,
   "metadata": {},
   "outputs": [
    {
     "data": {
      "text/html": [
       "<div>\n",
       "<style scoped>\n",
       "    .dataframe tbody tr th:only-of-type {\n",
       "        vertical-align: middle;\n",
       "    }\n",
       "\n",
       "    .dataframe tbody tr th {\n",
       "        vertical-align: top;\n",
       "    }\n",
       "\n",
       "    .dataframe thead th {\n",
       "        text-align: right;\n",
       "    }\n",
       "</style>\n",
       "<table border=\"1\" class=\"dataframe\">\n",
       "  <thead>\n",
       "    <tr style=\"text-align: right;\">\n",
       "      <th></th>\n",
       "      <th>Symbol_x</th>\n",
       "      <th>NOCP_x</th>\n",
       "      <th>Date_x</th>\n",
       "      <th>Symbol_y</th>\n",
       "      <th>NOCP_y</th>\n",
       "      <th>Date_y</th>\n",
       "      <th>Symbol</th>\n",
       "      <th>NOCP</th>\n",
       "      <th>Date</th>\n",
       "    </tr>\n",
       "    <tr>\n",
       "      <th>Trade DATE</th>\n",
       "      <th></th>\n",
       "      <th></th>\n",
       "      <th></th>\n",
       "      <th></th>\n",
       "      <th></th>\n",
       "      <th></th>\n",
       "      <th></th>\n",
       "      <th></th>\n",
       "      <th></th>\n",
       "    </tr>\n",
       "  </thead>\n",
       "  <tbody>\n",
       "    <tr>\n",
       "      <th>5/9/2019</th>\n",
       "      <td>COST</td>\n",
       "      <td>243.47</td>\n",
       "      <td>2019-05-09</td>\n",
       "      <td>AAPL</td>\n",
       "      <td>200.72</td>\n",
       "      <td>2019-05-09</td>\n",
       "      <td>GOOG</td>\n",
       "      <td>1162.38</td>\n",
       "      <td>2019-05-09</td>\n",
       "    </tr>\n",
       "    <tr>\n",
       "      <th>5/8/2019</th>\n",
       "      <td>COST</td>\n",
       "      <td>241.34</td>\n",
       "      <td>2019-05-08</td>\n",
       "      <td>AAPL</td>\n",
       "      <td>202.90</td>\n",
       "      <td>2019-05-08</td>\n",
       "      <td>GOOG</td>\n",
       "      <td>1166.27</td>\n",
       "      <td>2019-05-08</td>\n",
       "    </tr>\n",
       "    <tr>\n",
       "      <th>5/7/2019</th>\n",
       "      <td>COST</td>\n",
       "      <td>240.18</td>\n",
       "      <td>2019-05-07</td>\n",
       "      <td>AAPL</td>\n",
       "      <td>202.86</td>\n",
       "      <td>2019-05-07</td>\n",
       "      <td>GOOG</td>\n",
       "      <td>1174.10</td>\n",
       "      <td>2019-05-07</td>\n",
       "    </tr>\n",
       "    <tr>\n",
       "      <th>5/6/2019</th>\n",
       "      <td>COST</td>\n",
       "      <td>244.23</td>\n",
       "      <td>2019-05-06</td>\n",
       "      <td>AAPL</td>\n",
       "      <td>208.48</td>\n",
       "      <td>2019-05-06</td>\n",
       "      <td>GOOG</td>\n",
       "      <td>1189.39</td>\n",
       "      <td>2019-05-06</td>\n",
       "    </tr>\n",
       "    <tr>\n",
       "      <th>5/3/2019</th>\n",
       "      <td>COST</td>\n",
       "      <td>244.62</td>\n",
       "      <td>2019-05-03</td>\n",
       "      <td>AAPL</td>\n",
       "      <td>211.75</td>\n",
       "      <td>2019-05-03</td>\n",
       "      <td>GOOG</td>\n",
       "      <td>1185.40</td>\n",
       "      <td>2019-05-03</td>\n",
       "    </tr>\n",
       "    <tr>\n",
       "      <th>...</th>\n",
       "      <td>...</td>\n",
       "      <td>...</td>\n",
       "      <td>...</td>\n",
       "      <td>...</td>\n",
       "      <td>...</td>\n",
       "      <td>...</td>\n",
       "      <td>...</td>\n",
       "      <td>...</td>\n",
       "      <td>...</td>\n",
       "    </tr>\n",
       "    <tr>\n",
       "      <th>5/17/2018</th>\n",
       "      <td>COST</td>\n",
       "      <td>199.60</td>\n",
       "      <td>2018-05-17</td>\n",
       "      <td>AAPL</td>\n",
       "      <td>186.99</td>\n",
       "      <td>2018-05-17</td>\n",
       "      <td>GOOG</td>\n",
       "      <td>1078.59</td>\n",
       "      <td>2018-05-17</td>\n",
       "    </tr>\n",
       "    <tr>\n",
       "      <th>5/16/2018</th>\n",
       "      <td>COST</td>\n",
       "      <td>198.71</td>\n",
       "      <td>2018-05-16</td>\n",
       "      <td>AAPL</td>\n",
       "      <td>188.18</td>\n",
       "      <td>2018-05-16</td>\n",
       "      <td>GOOG</td>\n",
       "      <td>1081.77</td>\n",
       "      <td>2018-05-16</td>\n",
       "    </tr>\n",
       "    <tr>\n",
       "      <th>5/15/2018</th>\n",
       "      <td>COST</td>\n",
       "      <td>195.48</td>\n",
       "      <td>2018-05-15</td>\n",
       "      <td>AAPL</td>\n",
       "      <td>186.44</td>\n",
       "      <td>2018-05-15</td>\n",
       "      <td>GOOG</td>\n",
       "      <td>1079.23</td>\n",
       "      <td>2018-05-15</td>\n",
       "    </tr>\n",
       "    <tr>\n",
       "      <th>5/14/2018</th>\n",
       "      <td>COST</td>\n",
       "      <td>195.88</td>\n",
       "      <td>2018-05-14</td>\n",
       "      <td>AAPL</td>\n",
       "      <td>188.15</td>\n",
       "      <td>2018-05-14</td>\n",
       "      <td>GOOG</td>\n",
       "      <td>1100.20</td>\n",
       "      <td>2018-05-14</td>\n",
       "    </tr>\n",
       "    <tr>\n",
       "      <th>5/11/2018</th>\n",
       "      <td>COST</td>\n",
       "      <td>195.76</td>\n",
       "      <td>2018-05-11</td>\n",
       "      <td>AAPL</td>\n",
       "      <td>188.59</td>\n",
       "      <td>2018-05-11</td>\n",
       "      <td>GOOG</td>\n",
       "      <td>1098.26</td>\n",
       "      <td>2018-05-11</td>\n",
       "    </tr>\n",
       "  </tbody>\n",
       "</table>\n",
       "<p>250 rows × 9 columns</p>\n",
       "</div>"
      ],
      "text/plain": [
       "           Symbol_x  NOCP_x     Date_x Symbol_y  NOCP_y     Date_y Symbol  \\\n",
       "Trade DATE                                                                  \n",
       "5/9/2019       COST  243.47 2019-05-09     AAPL  200.72 2019-05-09   GOOG   \n",
       "5/8/2019       COST  241.34 2019-05-08     AAPL  202.90 2019-05-08   GOOG   \n",
       "5/7/2019       COST  240.18 2019-05-07     AAPL  202.86 2019-05-07   GOOG   \n",
       "5/6/2019       COST  244.23 2019-05-06     AAPL  208.48 2019-05-06   GOOG   \n",
       "5/3/2019       COST  244.62 2019-05-03     AAPL  211.75 2019-05-03   GOOG   \n",
       "...             ...     ...        ...      ...     ...        ...    ...   \n",
       "5/17/2018      COST  199.60 2018-05-17     AAPL  186.99 2018-05-17   GOOG   \n",
       "5/16/2018      COST  198.71 2018-05-16     AAPL  188.18 2018-05-16   GOOG   \n",
       "5/15/2018      COST  195.48 2018-05-15     AAPL  186.44 2018-05-15   GOOG   \n",
       "5/14/2018      COST  195.88 2018-05-14     AAPL  188.15 2018-05-14   GOOG   \n",
       "5/11/2018      COST  195.76 2018-05-11     AAPL  188.59 2018-05-11   GOOG   \n",
       "\n",
       "               NOCP       Date  \n",
       "Trade DATE                      \n",
       "5/9/2019    1162.38 2019-05-09  \n",
       "5/8/2019    1166.27 2019-05-08  \n",
       "5/7/2019    1174.10 2019-05-07  \n",
       "5/6/2019    1189.39 2019-05-06  \n",
       "5/3/2019    1185.40 2019-05-03  \n",
       "...             ...        ...  \n",
       "5/17/2018   1078.59 2018-05-17  \n",
       "5/16/2018   1081.77 2018-05-16  \n",
       "5/15/2018   1079.23 2018-05-15  \n",
       "5/14/2018   1100.20 2018-05-14  \n",
       "5/11/2018   1098.26 2018-05-11  \n",
       "\n",
       "[250 rows x 9 columns]"
      ]
     },
     "execution_count": 397,
     "metadata": {},
     "output_type": "execute_result"
    }
   ],
   "source": [
    "# Combine all stocks in a single DataFrame\n",
    "cost_df['Date'] = cost_df['Trade DATE'].apply(pd.to_datetime)\n",
    "aapl_df['Date'] = aapl_df['Trade DATE'].apply(pd.to_datetime)\n",
    "goog_df['Date'] = goog_df['Trade DATE'].apply(pd.to_datetime)\n",
    "\n",
    "joined_df = pd.merge(cost_df, aapl_df, how=\"outer\", on=\"Trade DATE\")\n",
    "joined_df = pd.merge(joined_df, goog_df, how=\"outer\", on=\"Trade DATE\")\n",
    "joined_df = joined_df.set_index(\"Trade DATE\")\n",
    "joined_df"
   ]
  },
  {
   "cell_type": "code",
   "execution_count": 398,
   "metadata": {},
   "outputs": [],
   "source": [
    "# Reset Date index\n",
    "# joined_df[\"Trade DATE\"] = joined_df[\"Trade DATE\"].apply(pd.to_datetime)\n",
    "# print(\"Date values are now type :\", type(joined_df['Trade DATE'].iloc[0]))"
   ]
  },
  {
   "cell_type": "code",
   "execution_count": 399,
   "metadata": {},
   "outputs": [
    {
     "data": {
      "text/html": [
       "<div>\n",
       "<style scoped>\n",
       "    .dataframe tbody tr th:only-of-type {\n",
       "        vertical-align: middle;\n",
       "    }\n",
       "\n",
       "    .dataframe tbody tr th {\n",
       "        vertical-align: top;\n",
       "    }\n",
       "\n",
       "    .dataframe thead th {\n",
       "        text-align: right;\n",
       "    }\n",
       "</style>\n",
       "<table border=\"1\" class=\"dataframe\">\n",
       "  <thead>\n",
       "    <tr style=\"text-align: right;\">\n",
       "      <th></th>\n",
       "      <th>Symbol_x</th>\n",
       "      <th>NOCP_COST</th>\n",
       "      <th>Date_x</th>\n",
       "      <th>Symbol_y</th>\n",
       "      <th>NOCP_AAPL</th>\n",
       "      <th>Date_y</th>\n",
       "      <th>Symbol</th>\n",
       "      <th>NOCP_GOOG</th>\n",
       "      <th>Date</th>\n",
       "    </tr>\n",
       "    <tr>\n",
       "      <th>Trade DATE</th>\n",
       "      <th></th>\n",
       "      <th></th>\n",
       "      <th></th>\n",
       "      <th></th>\n",
       "      <th></th>\n",
       "      <th></th>\n",
       "      <th></th>\n",
       "      <th></th>\n",
       "      <th></th>\n",
       "    </tr>\n",
       "  </thead>\n",
       "  <tbody>\n",
       "    <tr>\n",
       "      <th>5/9/2019</th>\n",
       "      <td>COST</td>\n",
       "      <td>243.47</td>\n",
       "      <td>2019-05-09</td>\n",
       "      <td>AAPL</td>\n",
       "      <td>200.72</td>\n",
       "      <td>2019-05-09</td>\n",
       "      <td>GOOG</td>\n",
       "      <td>1162.38</td>\n",
       "      <td>2019-05-09</td>\n",
       "    </tr>\n",
       "    <tr>\n",
       "      <th>5/8/2019</th>\n",
       "      <td>COST</td>\n",
       "      <td>241.34</td>\n",
       "      <td>2019-05-08</td>\n",
       "      <td>AAPL</td>\n",
       "      <td>202.90</td>\n",
       "      <td>2019-05-08</td>\n",
       "      <td>GOOG</td>\n",
       "      <td>1166.27</td>\n",
       "      <td>2019-05-08</td>\n",
       "    </tr>\n",
       "    <tr>\n",
       "      <th>5/7/2019</th>\n",
       "      <td>COST</td>\n",
       "      <td>240.18</td>\n",
       "      <td>2019-05-07</td>\n",
       "      <td>AAPL</td>\n",
       "      <td>202.86</td>\n",
       "      <td>2019-05-07</td>\n",
       "      <td>GOOG</td>\n",
       "      <td>1174.10</td>\n",
       "      <td>2019-05-07</td>\n",
       "    </tr>\n",
       "    <tr>\n",
       "      <th>5/6/2019</th>\n",
       "      <td>COST</td>\n",
       "      <td>244.23</td>\n",
       "      <td>2019-05-06</td>\n",
       "      <td>AAPL</td>\n",
       "      <td>208.48</td>\n",
       "      <td>2019-05-06</td>\n",
       "      <td>GOOG</td>\n",
       "      <td>1189.39</td>\n",
       "      <td>2019-05-06</td>\n",
       "    </tr>\n",
       "    <tr>\n",
       "      <th>5/3/2019</th>\n",
       "      <td>COST</td>\n",
       "      <td>244.62</td>\n",
       "      <td>2019-05-03</td>\n",
       "      <td>AAPL</td>\n",
       "      <td>211.75</td>\n",
       "      <td>2019-05-03</td>\n",
       "      <td>GOOG</td>\n",
       "      <td>1185.40</td>\n",
       "      <td>2019-05-03</td>\n",
       "    </tr>\n",
       "  </tbody>\n",
       "</table>\n",
       "</div>"
      ],
      "text/plain": [
       "           Symbol_x  NOCP_COST     Date_x Symbol_y  NOCP_AAPL     Date_y  \\\n",
       "Trade DATE                                                                 \n",
       "5/9/2019       COST     243.47 2019-05-09     AAPL     200.72 2019-05-09   \n",
       "5/8/2019       COST     241.34 2019-05-08     AAPL     202.90 2019-05-08   \n",
       "5/7/2019       COST     240.18 2019-05-07     AAPL     202.86 2019-05-07   \n",
       "5/6/2019       COST     244.23 2019-05-06     AAPL     208.48 2019-05-06   \n",
       "5/3/2019       COST     244.62 2019-05-03     AAPL     211.75 2019-05-03   \n",
       "\n",
       "           Symbol  NOCP_GOOG       Date  \n",
       "Trade DATE                               \n",
       "5/9/2019     GOOG    1162.38 2019-05-09  \n",
       "5/8/2019     GOOG    1166.27 2019-05-08  \n",
       "5/7/2019     GOOG    1174.10 2019-05-07  \n",
       "5/6/2019     GOOG    1189.39 2019-05-06  \n",
       "5/3/2019     GOOG    1185.40 2019-05-03  "
      ]
     },
     "execution_count": 399,
     "metadata": {},
     "output_type": "execute_result"
    }
   ],
   "source": [
    "# Reorganize portfolio data by having a column per symbol\n",
    "#rename columns\n",
    "joined_df.rename(columns = {'NOCP_x':'NOCP_COST'}, inplace = True)\n",
    "joined_df.rename(columns = {'NOCP_y':'NOCP_AAPL'}, inplace = True)\n",
    "joined_df.rename(columns = {'NOCP':'NOCP_GOOG'}, inplace = True)\n",
    "\n",
    "#drop symbol columns\n",
    "#joined_df.drop(columns = {'Symbol_x'}, inplace = True)\n",
    "#joined_df.drop(columns = {'Symbol_y'}, inplace = True)\n",
    "#joined_df.drop(columns = {'Symbol'}, inplace = True)\n",
    "\n",
    "#drop date columns\n",
    "#joined_df.drop(columns = {'Date_x'}, inplace = True)\n",
    "#joined_df.drop(columns = {'Date_y'}, inplace = True)\n",
    "#joined_df.drop(columns = {'Date'}, inplace = True)\n",
    "\n",
    "\n",
    "joined_df.head()"
   ]
  },
  {
   "cell_type": "code",
   "execution_count": 400,
   "metadata": {},
   "outputs": [
    {
     "data": {
      "text/html": [
       "<div>\n",
       "<style scoped>\n",
       "    .dataframe tbody tr th:only-of-type {\n",
       "        vertical-align: middle;\n",
       "    }\n",
       "\n",
       "    .dataframe tbody tr th {\n",
       "        vertical-align: top;\n",
       "    }\n",
       "\n",
       "    .dataframe thead th {\n",
       "        text-align: right;\n",
       "    }\n",
       "</style>\n",
       "<table border=\"1\" class=\"dataframe\">\n",
       "  <thead>\n",
       "    <tr style=\"text-align: right;\">\n",
       "      <th></th>\n",
       "      <th>Symbol_x</th>\n",
       "      <th>NOCP_COST</th>\n",
       "      <th>Date_x</th>\n",
       "      <th>Symbol_y</th>\n",
       "      <th>NOCP_AAPL</th>\n",
       "      <th>Date_y</th>\n",
       "      <th>Symbol</th>\n",
       "      <th>NOCP_GOOG</th>\n",
       "      <th>Date</th>\n",
       "      <th>COST_returns</th>\n",
       "      <th>AAPL_returns</th>\n",
       "      <th>GOOG_returns</th>\n",
       "    </tr>\n",
       "    <tr>\n",
       "      <th>Trade DATE</th>\n",
       "      <th></th>\n",
       "      <th></th>\n",
       "      <th></th>\n",
       "      <th></th>\n",
       "      <th></th>\n",
       "      <th></th>\n",
       "      <th></th>\n",
       "      <th></th>\n",
       "      <th></th>\n",
       "      <th></th>\n",
       "      <th></th>\n",
       "      <th></th>\n",
       "    </tr>\n",
       "  </thead>\n",
       "  <tbody>\n",
       "    <tr>\n",
       "      <th>5/8/2019</th>\n",
       "      <td>COST</td>\n",
       "      <td>241.34</td>\n",
       "      <td>2019-05-08</td>\n",
       "      <td>AAPL</td>\n",
       "      <td>202.90</td>\n",
       "      <td>2019-05-08</td>\n",
       "      <td>GOOG</td>\n",
       "      <td>1166.27</td>\n",
       "      <td>2019-05-08</td>\n",
       "      <td>-0.008749</td>\n",
       "      <td>0.010861</td>\n",
       "      <td>0.003347</td>\n",
       "    </tr>\n",
       "    <tr>\n",
       "      <th>5/7/2019</th>\n",
       "      <td>COST</td>\n",
       "      <td>240.18</td>\n",
       "      <td>2019-05-07</td>\n",
       "      <td>AAPL</td>\n",
       "      <td>202.86</td>\n",
       "      <td>2019-05-07</td>\n",
       "      <td>GOOG</td>\n",
       "      <td>1174.10</td>\n",
       "      <td>2019-05-07</td>\n",
       "      <td>-0.004806</td>\n",
       "      <td>-0.000197</td>\n",
       "      <td>0.006714</td>\n",
       "    </tr>\n",
       "    <tr>\n",
       "      <th>5/6/2019</th>\n",
       "      <td>COST</td>\n",
       "      <td>244.23</td>\n",
       "      <td>2019-05-06</td>\n",
       "      <td>AAPL</td>\n",
       "      <td>208.48</td>\n",
       "      <td>2019-05-06</td>\n",
       "      <td>GOOG</td>\n",
       "      <td>1189.39</td>\n",
       "      <td>2019-05-06</td>\n",
       "      <td>0.016862</td>\n",
       "      <td>0.027704</td>\n",
       "      <td>0.013023</td>\n",
       "    </tr>\n",
       "    <tr>\n",
       "      <th>5/3/2019</th>\n",
       "      <td>COST</td>\n",
       "      <td>244.62</td>\n",
       "      <td>2019-05-03</td>\n",
       "      <td>AAPL</td>\n",
       "      <td>211.75</td>\n",
       "      <td>2019-05-03</td>\n",
       "      <td>GOOG</td>\n",
       "      <td>1185.40</td>\n",
       "      <td>2019-05-03</td>\n",
       "      <td>0.001597</td>\n",
       "      <td>0.015685</td>\n",
       "      <td>-0.003355</td>\n",
       "    </tr>\n",
       "    <tr>\n",
       "      <th>5/2/2019</th>\n",
       "      <td>COST</td>\n",
       "      <td>242.69</td>\n",
       "      <td>2019-05-02</td>\n",
       "      <td>AAPL</td>\n",
       "      <td>209.15</td>\n",
       "      <td>2019-05-02</td>\n",
       "      <td>GOOG</td>\n",
       "      <td>1162.61</td>\n",
       "      <td>2019-05-02</td>\n",
       "      <td>-0.007890</td>\n",
       "      <td>-0.012279</td>\n",
       "      <td>-0.019226</td>\n",
       "    </tr>\n",
       "  </tbody>\n",
       "</table>\n",
       "</div>"
      ],
      "text/plain": [
       "           Symbol_x  NOCP_COST     Date_x Symbol_y  NOCP_AAPL     Date_y  \\\n",
       "Trade DATE                                                                 \n",
       "5/8/2019       COST     241.34 2019-05-08     AAPL     202.90 2019-05-08   \n",
       "5/7/2019       COST     240.18 2019-05-07     AAPL     202.86 2019-05-07   \n",
       "5/6/2019       COST     244.23 2019-05-06     AAPL     208.48 2019-05-06   \n",
       "5/3/2019       COST     244.62 2019-05-03     AAPL     211.75 2019-05-03   \n",
       "5/2/2019       COST     242.69 2019-05-02     AAPL     209.15 2019-05-02   \n",
       "\n",
       "           Symbol  NOCP_GOOG       Date  COST_returns  AAPL_returns  \\\n",
       "Trade DATE                                                            \n",
       "5/8/2019     GOOG    1166.27 2019-05-08     -0.008749      0.010861   \n",
       "5/7/2019     GOOG    1174.10 2019-05-07     -0.004806     -0.000197   \n",
       "5/6/2019     GOOG    1189.39 2019-05-06      0.016862      0.027704   \n",
       "5/3/2019     GOOG    1185.40 2019-05-03      0.001597      0.015685   \n",
       "5/2/2019     GOOG    1162.61 2019-05-02     -0.007890     -0.012279   \n",
       "\n",
       "            GOOG_returns  \n",
       "Trade DATE                \n",
       "5/8/2019        0.003347  \n",
       "5/7/2019        0.006714  \n",
       "5/6/2019        0.013023  \n",
       "5/3/2019       -0.003355  \n",
       "5/2/2019       -0.019226  "
      ]
     },
     "execution_count": 400,
     "metadata": {},
     "output_type": "execute_result"
    }
   ],
   "source": [
    "# Calculate daily returns\n",
    "joined_df[\"COST_returns\"] = joined_df[\"NOCP_COST\"].pct_change()\n",
    "joined_df[\"AAPL_returns\"] = joined_df[\"NOCP_AAPL\"].pct_change()\n",
    "joined_df[\"GOOG_returns\"] = joined_df[\"NOCP_GOOG\"].pct_change()\n",
    "\n",
    "# Drop NAs\n",
    "joined_df = joined_df.dropna()\n",
    "# Display sample data\n",
    "joined_df.head()"
   ]
  },
  {
   "cell_type": "markdown",
   "metadata": {},
   "source": [
    "## Calculate the weighted returns for the portfolio assuming an equal number of shares for each stock"
   ]
  },
  {
   "cell_type": "code",
   "execution_count": 401,
   "metadata": {},
   "outputs": [
    {
     "ename": "ValueError",
     "evalue": "Unable to coerce to Series, length must be 12: given 3",
     "output_type": "error",
     "traceback": [
      "\u001b[0;31m---------------------------------------------------------------------------\u001b[0m",
      "\u001b[0;31mValueError\u001b[0m                                Traceback (most recent call last)",
      "Input \u001b[0;32mIn [401]\u001b[0m, in \u001b[0;36m<cell line: 5>\u001b[0;34m()\u001b[0m\n\u001b[1;32m      2\u001b[0m weights \u001b[38;5;241m=\u001b[39m [\u001b[38;5;241m1\u001b[39m\u001b[38;5;241m/\u001b[39m\u001b[38;5;241m3\u001b[39m, \u001b[38;5;241m1\u001b[39m\u001b[38;5;241m/\u001b[39m\u001b[38;5;241m3\u001b[39m, \u001b[38;5;241m1\u001b[39m\u001b[38;5;241m/\u001b[39m\u001b[38;5;241m3\u001b[39m]\n\u001b[1;32m      4\u001b[0m \u001b[38;5;66;03m# Calculate portfolio return\u001b[39;00m\n\u001b[0;32m----> 5\u001b[0m weighted_returns \u001b[38;5;241m=\u001b[39m (\u001b[43mweights\u001b[49m\u001b[43m \u001b[49m\u001b[38;5;241;43m*\u001b[39;49m\u001b[43m \u001b[49m\u001b[43mjoined_df\u001b[49m)\n\u001b[1;32m      6\u001b[0m \u001b[38;5;66;03m# Display sample data\u001b[39;00m\n\u001b[1;32m      7\u001b[0m weighted_returns\u001b[38;5;241m.\u001b[39mhead()\n",
      "File \u001b[0;32m~/opt/anaconda3/lib/python3.9/site-packages/pandas/core/ops/common.py:70\u001b[0m, in \u001b[0;36m_unpack_zerodim_and_defer.<locals>.new_method\u001b[0;34m(self, other)\u001b[0m\n\u001b[1;32m     66\u001b[0m             \u001b[38;5;28;01mreturn\u001b[39;00m \u001b[38;5;28mNotImplemented\u001b[39m\n\u001b[1;32m     68\u001b[0m other \u001b[38;5;241m=\u001b[39m item_from_zerodim(other)\n\u001b[0;32m---> 70\u001b[0m \u001b[38;5;28;01mreturn\u001b[39;00m \u001b[43mmethod\u001b[49m\u001b[43m(\u001b[49m\u001b[38;5;28;43mself\u001b[39;49m\u001b[43m,\u001b[49m\u001b[43m \u001b[49m\u001b[43mother\u001b[49m\u001b[43m)\u001b[49m\n",
      "File \u001b[0;32m~/opt/anaconda3/lib/python3.9/site-packages/pandas/core/arraylike.py:120\u001b[0m, in \u001b[0;36mOpsMixin.__rmul__\u001b[0;34m(self, other)\u001b[0m\n\u001b[1;32m    118\u001b[0m \u001b[38;5;129m@unpack_zerodim_and_defer\u001b[39m(\u001b[38;5;124m\"\u001b[39m\u001b[38;5;124m__rmul__\u001b[39m\u001b[38;5;124m\"\u001b[39m)\n\u001b[1;32m    119\u001b[0m \u001b[38;5;28;01mdef\u001b[39;00m \u001b[38;5;21m__rmul__\u001b[39m(\u001b[38;5;28mself\u001b[39m, other):\n\u001b[0;32m--> 120\u001b[0m     \u001b[38;5;28;01mreturn\u001b[39;00m \u001b[38;5;28;43mself\u001b[39;49m\u001b[38;5;241;43m.\u001b[39;49m\u001b[43m_arith_method\u001b[49m\u001b[43m(\u001b[49m\u001b[43mother\u001b[49m\u001b[43m,\u001b[49m\u001b[43m \u001b[49m\u001b[43mroperator\u001b[49m\u001b[38;5;241;43m.\u001b[39;49m\u001b[43mrmul\u001b[49m\u001b[43m)\u001b[49m\n",
      "File \u001b[0;32m~/opt/anaconda3/lib/python3.9/site-packages/pandas/core/frame.py:6944\u001b[0m, in \u001b[0;36mDataFrame._arith_method\u001b[0;34m(self, other, op)\u001b[0m\n\u001b[1;32m   6941\u001b[0m axis \u001b[38;5;241m=\u001b[39m \u001b[38;5;241m1\u001b[39m  \u001b[38;5;66;03m# only relevant for Series other case\u001b[39;00m\n\u001b[1;32m   6942\u001b[0m other \u001b[38;5;241m=\u001b[39m ops\u001b[38;5;241m.\u001b[39mmaybe_prepare_scalar_for_op(other, (\u001b[38;5;28mself\u001b[39m\u001b[38;5;241m.\u001b[39mshape[axis],))\n\u001b[0;32m-> 6944\u001b[0m \u001b[38;5;28mself\u001b[39m, other \u001b[38;5;241m=\u001b[39m \u001b[43mops\u001b[49m\u001b[38;5;241;43m.\u001b[39;49m\u001b[43malign_method_FRAME\u001b[49m\u001b[43m(\u001b[49m\u001b[38;5;28;43mself\u001b[39;49m\u001b[43m,\u001b[49m\u001b[43m \u001b[49m\u001b[43mother\u001b[49m\u001b[43m,\u001b[49m\u001b[43m \u001b[49m\u001b[43maxis\u001b[49m\u001b[43m,\u001b[49m\u001b[43m \u001b[49m\u001b[43mflex\u001b[49m\u001b[38;5;241;43m=\u001b[39;49m\u001b[38;5;28;43;01mTrue\u001b[39;49;00m\u001b[43m,\u001b[49m\u001b[43m \u001b[49m\u001b[43mlevel\u001b[49m\u001b[38;5;241;43m=\u001b[39;49m\u001b[38;5;28;43;01mNone\u001b[39;49;00m\u001b[43m)\u001b[49m\n\u001b[1;32m   6946\u001b[0m new_data \u001b[38;5;241m=\u001b[39m \u001b[38;5;28mself\u001b[39m\u001b[38;5;241m.\u001b[39m_dispatch_frame_op(other, op, axis\u001b[38;5;241m=\u001b[39maxis)\n\u001b[1;32m   6947\u001b[0m \u001b[38;5;28;01mreturn\u001b[39;00m \u001b[38;5;28mself\u001b[39m\u001b[38;5;241m.\u001b[39m_construct_result(new_data)\n",
      "File \u001b[0;32m~/opt/anaconda3/lib/python3.9/site-packages/pandas/core/ops/__init__.py:282\u001b[0m, in \u001b[0;36malign_method_FRAME\u001b[0;34m(left, right, axis, flex, level)\u001b[0m\n\u001b[1;32m    278\u001b[0m         \u001b[38;5;28;01mraise\u001b[39;00m \u001b[38;5;167;01mValueError\u001b[39;00m(\n\u001b[1;32m    279\u001b[0m             \u001b[38;5;124mf\u001b[39m\u001b[38;5;124m\"\u001b[39m\u001b[38;5;124mUnable to coerce list of \u001b[39m\u001b[38;5;132;01m{\u001b[39;00m\u001b[38;5;28mtype\u001b[39m(right[\u001b[38;5;241m0\u001b[39m])\u001b[38;5;132;01m}\u001b[39;00m\u001b[38;5;124m to Series/DataFrame\u001b[39m\u001b[38;5;124m\"\u001b[39m\n\u001b[1;32m    280\u001b[0m         )\n\u001b[1;32m    281\u001b[0m     \u001b[38;5;66;03m# GH17901\u001b[39;00m\n\u001b[0;32m--> 282\u001b[0m     right \u001b[38;5;241m=\u001b[39m \u001b[43mto_series\u001b[49m\u001b[43m(\u001b[49m\u001b[43mright\u001b[49m\u001b[43m)\u001b[49m\n\u001b[1;32m    284\u001b[0m \u001b[38;5;28;01mif\u001b[39;00m flex \u001b[38;5;129;01mis\u001b[39;00m \u001b[38;5;129;01mnot\u001b[39;00m \u001b[38;5;28;01mNone\u001b[39;00m \u001b[38;5;129;01mand\u001b[39;00m \u001b[38;5;28misinstance\u001b[39m(right, ABCDataFrame):\n\u001b[1;32m    285\u001b[0m     \u001b[38;5;28;01mif\u001b[39;00m \u001b[38;5;129;01mnot\u001b[39;00m left\u001b[38;5;241m.\u001b[39m_indexed_same(right):\n",
      "File \u001b[0;32m~/opt/anaconda3/lib/python3.9/site-packages/pandas/core/ops/__init__.py:239\u001b[0m, in \u001b[0;36malign_method_FRAME.<locals>.to_series\u001b[0;34m(right)\u001b[0m\n\u001b[1;32m    237\u001b[0m \u001b[38;5;28;01melse\u001b[39;00m:\n\u001b[1;32m    238\u001b[0m     \u001b[38;5;28;01mif\u001b[39;00m \u001b[38;5;28mlen\u001b[39m(left\u001b[38;5;241m.\u001b[39mcolumns) \u001b[38;5;241m!=\u001b[39m \u001b[38;5;28mlen\u001b[39m(right):\n\u001b[0;32m--> 239\u001b[0m         \u001b[38;5;28;01mraise\u001b[39;00m \u001b[38;5;167;01mValueError\u001b[39;00m(\n\u001b[1;32m    240\u001b[0m             msg\u001b[38;5;241m.\u001b[39mformat(req_len\u001b[38;5;241m=\u001b[39m\u001b[38;5;28mlen\u001b[39m(left\u001b[38;5;241m.\u001b[39mcolumns), given_len\u001b[38;5;241m=\u001b[39m\u001b[38;5;28mlen\u001b[39m(right))\n\u001b[1;32m    241\u001b[0m         )\n\u001b[1;32m    242\u001b[0m     right \u001b[38;5;241m=\u001b[39m left\u001b[38;5;241m.\u001b[39m_constructor_sliced(right, index\u001b[38;5;241m=\u001b[39mleft\u001b[38;5;241m.\u001b[39mcolumns)\n\u001b[1;32m    243\u001b[0m \u001b[38;5;28;01mreturn\u001b[39;00m right\n",
      "\u001b[0;31mValueError\u001b[0m: Unable to coerce to Series, length must be 12: given 3"
     ]
    }
   ],
   "source": [
    "# Set weights\n",
    "weights = [1/3, 1/3, 1/3]\n",
    "\n",
    "# Calculate portfolio return\n",
    "weighted_returns = (weights * joined_df)\n",
    "# Display sample data\n",
    "weighted_returns.head()"
   ]
  },
  {
   "cell_type": "markdown",
   "metadata": {},
   "source": [
    "## Join your portfolio returns to the DataFrame that contains all of the portfolio returns"
   ]
  },
  {
   "cell_type": "code",
   "execution_count": 402,
   "metadata": {},
   "outputs": [],
   "source": [
    "# Join your returns DataFrame to the original returns DataFrame\n"
   ]
  },
  {
   "cell_type": "code",
   "execution_count": 403,
   "metadata": {},
   "outputs": [],
   "source": [
    "# Only compare dates where return data exists for all the stocks (drop NaNs)\n"
   ]
  },
  {
   "cell_type": "markdown",
   "metadata": {},
   "source": [
    "## Re-run the risk analysis with your portfolio to see how it compares to the others"
   ]
  },
  {
   "cell_type": "markdown",
   "metadata": {},
   "source": [
    "### Calculate the Annualized Standard Deviation"
   ]
  },
  {
   "cell_type": "code",
   "execution_count": null,
   "metadata": {},
   "outputs": [],
   "source": [
    "# Calculate the annualized `std`\n"
   ]
  },
  {
   "cell_type": "markdown",
   "metadata": {},
   "source": [
    "### Calculate and plot rolling `std` with 21-day window"
   ]
  },
  {
   "cell_type": "code",
   "execution_count": null,
   "metadata": {},
   "outputs": [],
   "source": [
    "# Calculate rolling standard deviation\n",
    "\n",
    "# Plot rolling standard deviation\n"
   ]
  },
  {
   "cell_type": "markdown",
   "metadata": {},
   "source": [
    "### Calculate and plot the correlation"
   ]
  },
  {
   "cell_type": "code",
   "execution_count": null,
   "metadata": {},
   "outputs": [],
   "source": [
    "# Calculate and plot the correlation\n"
   ]
  },
  {
   "cell_type": "markdown",
   "metadata": {},
   "source": [
    "### Calculate and Plot Rolling 60-day Beta for Your Portfolio compared to the S&P 500"
   ]
  },
  {
   "cell_type": "code",
   "execution_count": null,
   "metadata": {},
   "outputs": [],
   "source": [
    "# Calculate and plot Beta\n"
   ]
  },
  {
   "cell_type": "markdown",
   "metadata": {},
   "source": [
    "### Using the daily returns, calculate and visualize the Sharpe ratios using a bar plot"
   ]
  },
  {
   "cell_type": "code",
   "execution_count": null,
   "metadata": {},
   "outputs": [],
   "source": [
    "# Calculate Annualized Sharpe Ratios\n"
   ]
  },
  {
   "cell_type": "code",
   "execution_count": null,
   "metadata": {},
   "outputs": [],
   "source": [
    "# Visualize the sharpe ratios as a bar plot\n"
   ]
  },
  {
   "cell_type": "markdown",
   "metadata": {},
   "source": [
    "### How does your portfolio do?\n",
    "\n",
    "Write your answer here!"
   ]
  },
  {
   "cell_type": "code",
   "execution_count": null,
   "metadata": {},
   "outputs": [],
   "source": []
  }
 ],
 "metadata": {
  "file_extension": ".py",
  "kernelspec": {
   "display_name": "Python 3 (ipykernel)",
   "language": "python",
   "name": "python3"
  },
  "language_info": {
   "codemirror_mode": {
    "name": "ipython",
    "version": 3
   },
   "file_extension": ".py",
   "mimetype": "text/x-python",
   "name": "python",
   "nbconvert_exporter": "python",
   "pygments_lexer": "ipython3",
   "version": "3.9.12"
  },
  "mimetype": "text/x-python",
  "name": "python",
  "npconvert_exporter": "python",
  "pygments_lexer": "ipython3",
  "version": 3
 },
 "nbformat": 4,
 "nbformat_minor": 4
}
